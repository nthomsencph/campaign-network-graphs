{
 "metadata": {
  "language_info": {
   "codemirror_mode": {
    "name": "ipython",
    "version": 3
   },
   "file_extension": ".py",
   "mimetype": "text/x-python",
   "name": "python",
   "nbconvert_exporter": "python",
   "pygments_lexer": "ipython3",
   "version": "3.8.3"
  },
  "orig_nbformat": 2,
  "kernelspec": {
   "name": "python383jvsc74a57bd0b3ba2566441a7c06988d0923437866b63cedc61552a5af99d1f4fb67d367b25f",
   "display_name": "Python 3.8.3 64-bit ('base': conda)"
  }
 },
 "nbformat": 4,
 "nbformat_minor": 2,
 "cells": [
  {
   "source": [
    "https://plotly.com/python/v3/3d-network-graph/\n",
    "https://stackoverflow.com/questions/62601052/option-to-add-edge-colouring-in-networkx-trace-using-plotly "
   ],
   "cell_type": "markdown",
   "metadata": {}
  },
  {
   "cell_type": "code",
   "execution_count": 73,
   "metadata": {},
   "outputs": [],
   "source": [
    "import igraph as ig\n",
    "import chart_studio.plotly as py\n",
    "from plotly.offline import iplot\n",
    "import plotly.graph_objs as go\n",
    "import pandas as pd\n",
    "import numpy as np\n",
    "\n",
    "import networkx as nx"
   ]
  },
  {
   "cell_type": "code",
   "execution_count": 74,
   "metadata": {},
   "outputs": [],
   "source": [
    "import requests\n",
    "url = \"https://raw.githubusercontent.com/plotly/datasets/master/miserables.json\"\n",
    "data = requests.get(url).json()"
   ]
  },
  {
   "cell_type": "code",
   "execution_count": 75,
   "metadata": {},
   "outputs": [
    {
     "output_type": "stream",
     "name": "stdout",
     "text": [
      "dict_keys(['nodes', 'links'])\n{'name': 'Mlle.Baptistine', 'group': 1}\n"
     ]
    }
   ],
   "source": [
    "print(data.keys())\n",
    "print(data['nodes'][2])"
   ]
  },
  {
   "cell_type": "code",
   "execution_count": 76,
   "metadata": {},
   "outputs": [
    {
     "output_type": "execute_result",
     "data": {
      "text/plain": [
       "(254, 77)"
      ]
     },
     "metadata": {},
     "execution_count": 76
    }
   ],
   "source": [
    "L = len(data['links'])\n",
    "N = len(data['nodes'])\n",
    "L, N"
   ]
  },
  {
   "cell_type": "code",
   "execution_count": 77,
   "metadata": {},
   "outputs": [
    {
     "output_type": "stream",
     "name": "stdout",
     "text": [
      "   source  target  value\n0       1       0      1\n1       2       0      8\n2       3       0     10\n              name  group\n0           Myriel      1\n1         Napoleon      1\n2  Mlle.Baptistine      1\n"
     ]
    }
   ],
   "source": [
    "links = pd.DataFrame(data[\"links\"])\n",
    "nodes = pd.DataFrame(data['nodes'])\n",
    "print(links.head(3))\n",
    "print(nodes.head(3))"
   ]
  },
  {
   "cell_type": "code",
   "execution_count": 58,
   "metadata": {},
   "outputs": [],
   "source": [
    "# get number of source and target mentions per character.\n",
    "nodes['sizes'] = links[\"source\"].value_counts().sort_index().add(links[\"target\"].value_counts().sort_index(), fill_value = 0)\n",
    "\n",
    "# normalizing values\n",
    "a, b = 6, 14\n",
    "x, y = min(nodes.sizes), max(nodes.sizes)\n",
    "nodes.sizes = (nodes.sizes - x) / (y - x) * (b - a) + a"
   ]
  },
  {
   "cell_type": "code",
   "execution_count": 59,
   "metadata": {},
   "outputs": [],
   "source": [
    "dnd = nx.Graph()\n",
    "for idx, char in nodes.iterrows():\n",
    "        dnd.add_node(char.name, size = char.sizes) "
   ]
  },
  {
   "cell_type": "code",
   "execution_count": 204,
   "metadata": {},
   "outputs": [],
   "source": []
  },
  {
   "cell_type": "code",
   "execution_count": 60,
   "metadata": {},
   "outputs": [],
   "source": [
    "\n",
    "links[\"relation\"] = np.random.randint(0, 2, links.shape[0])\n",
    "rel_color_lookup = {0:'red', 1:'blue'}\n",
    "links.relation = links.relation.apply(lambda x: rel_color_lookup[x])"
   ]
  },
  {
   "cell_type": "code",
   "execution_count": 61,
   "metadata": {},
   "outputs": [],
   "source": [
    "# for each co-appearance between two characters, add an edge\n",
    "for idx, link in links.iterrows():\n",
    "    dnd.add_edge(link.source, link.target, weight = link.value, color = link.relation)"
   ]
  },
  {
   "cell_type": "code",
   "execution_count": 62,
   "metadata": {},
   "outputs": [
    {
     "output_type": "execute_result",
     "data": {
      "text/plain": [
       "254"
      ]
     },
     "metadata": {},
     "execution_count": 62
    }
   ],
   "source": [
    "dnd.number_of_edges()"
   ]
  },
  {
   "cell_type": "code",
   "execution_count": 63,
   "metadata": {},
   "outputs": [],
   "source": [
    "# colors = nx.get_edge_attributes(dnd,'color').values()\n",
    "# weights = nx.get_edge_attributes(dnd,'weight').values()\n",
    "# colors, weights"
   ]
  },
  {
   "cell_type": "code",
   "execution_count": 64,
   "metadata": {},
   "outputs": [
    {
     "output_type": "stream",
     "name": "stdout",
     "text": [
      "77\n"
     ]
    }
   ],
   "source": [
    "pos_ = nx.spring_layout(dnd, dim = 3, k = 0.8, iterations = 50) # get coordinates for nodes in spring layout\n",
    "Xn, Yn, Zn = [], [], []\n",
    "for k in range(dnd.number_of_nodes()): \n",
    "  Xn += [ pos_[k][0] ] \n",
    "  Yn += [ pos_[k][1] ]\n",
    "  Zn += [ pos_[k][2] ]\n",
    "\n",
    "print(len(Xn))\n",
    "nodes[\"Xn\"] = Xn\n",
    "nodes[\"Yn\"] = Yn\n",
    "nodes[\"Zn\"] = Zn"
   ]
  },
  {
   "cell_type": "code",
   "execution_count": 65,
   "metadata": {},
   "outputs": [
    {
     "output_type": "execute_result",
     "data": {
      "text/plain": [
       "               name  group     sizes        Xn        Yn        Zn\n",
       "0            Myriel      1  8.057143  0.018336 -0.177458  0.436552\n",
       "1          Napoleon      1  6.000000  0.215345 -0.874937 -0.340964\n",
       "2   Mlle.Baptistine      1  6.457143 -0.050715 -0.145531  0.618285\n",
       "3      Mme.Magloire      1  6.457143 -0.139115 -0.185772  0.556071\n",
       "4      CountessdeLo      1  6.000000  0.705701 -0.521544  0.588905\n",
       "..              ...    ...       ...       ...       ...       ...\n",
       "72        Toussaint      5  6.457143  0.537041 -0.077987  0.118683\n",
       "73           Child1     10  6.228571 -0.506722 -0.219807  0.140187\n",
       "74           Child2     10  6.228571 -0.335435 -0.341538  0.235886\n",
       "75           Brujon      4  7.371429  0.440876  0.461547 -0.036476\n",
       "76    Mme.Hucheloup      8  7.371429 -0.166353 -0.023303 -0.856424\n",
       "\n",
       "[77 rows x 6 columns]"
      ],
      "text/html": "<div>\n<style scoped>\n    .dataframe tbody tr th:only-of-type {\n        vertical-align: middle;\n    }\n\n    .dataframe tbody tr th {\n        vertical-align: top;\n    }\n\n    .dataframe thead th {\n        text-align: right;\n    }\n</style>\n<table border=\"1\" class=\"dataframe\">\n  <thead>\n    <tr style=\"text-align: right;\">\n      <th></th>\n      <th>name</th>\n      <th>group</th>\n      <th>sizes</th>\n      <th>Xn</th>\n      <th>Yn</th>\n      <th>Zn</th>\n    </tr>\n  </thead>\n  <tbody>\n    <tr>\n      <th>0</th>\n      <td>Myriel</td>\n      <td>1</td>\n      <td>8.057143</td>\n      <td>0.018336</td>\n      <td>-0.177458</td>\n      <td>0.436552</td>\n    </tr>\n    <tr>\n      <th>1</th>\n      <td>Napoleon</td>\n      <td>1</td>\n      <td>6.000000</td>\n      <td>0.215345</td>\n      <td>-0.874937</td>\n      <td>-0.340964</td>\n    </tr>\n    <tr>\n      <th>2</th>\n      <td>Mlle.Baptistine</td>\n      <td>1</td>\n      <td>6.457143</td>\n      <td>-0.050715</td>\n      <td>-0.145531</td>\n      <td>0.618285</td>\n    </tr>\n    <tr>\n      <th>3</th>\n      <td>Mme.Magloire</td>\n      <td>1</td>\n      <td>6.457143</td>\n      <td>-0.139115</td>\n      <td>-0.185772</td>\n      <td>0.556071</td>\n    </tr>\n    <tr>\n      <th>4</th>\n      <td>CountessdeLo</td>\n      <td>1</td>\n      <td>6.000000</td>\n      <td>0.705701</td>\n      <td>-0.521544</td>\n      <td>0.588905</td>\n    </tr>\n    <tr>\n      <th>...</th>\n      <td>...</td>\n      <td>...</td>\n      <td>...</td>\n      <td>...</td>\n      <td>...</td>\n      <td>...</td>\n    </tr>\n    <tr>\n      <th>72</th>\n      <td>Toussaint</td>\n      <td>5</td>\n      <td>6.457143</td>\n      <td>0.537041</td>\n      <td>-0.077987</td>\n      <td>0.118683</td>\n    </tr>\n    <tr>\n      <th>73</th>\n      <td>Child1</td>\n      <td>10</td>\n      <td>6.228571</td>\n      <td>-0.506722</td>\n      <td>-0.219807</td>\n      <td>0.140187</td>\n    </tr>\n    <tr>\n      <th>74</th>\n      <td>Child2</td>\n      <td>10</td>\n      <td>6.228571</td>\n      <td>-0.335435</td>\n      <td>-0.341538</td>\n      <td>0.235886</td>\n    </tr>\n    <tr>\n      <th>75</th>\n      <td>Brujon</td>\n      <td>4</td>\n      <td>7.371429</td>\n      <td>0.440876</td>\n      <td>0.461547</td>\n      <td>-0.036476</td>\n    </tr>\n    <tr>\n      <th>76</th>\n      <td>Mme.Hucheloup</td>\n      <td>8</td>\n      <td>7.371429</td>\n      <td>-0.166353</td>\n      <td>-0.023303</td>\n      <td>-0.856424</td>\n    </tr>\n  </tbody>\n</table>\n<p>77 rows × 6 columns</p>\n</div>"
     },
     "metadata": {},
     "execution_count": 65
    }
   ],
   "source": [
    "nodes"
   ]
  },
  {
   "cell_type": "code",
   "execution_count": 66,
   "metadata": {},
   "outputs": [
    {
     "output_type": "execute_result",
     "data": {
      "text/plain": [
       "0.0     3\n",
       "1.0    34\n",
       "2.0    22\n",
       "3.0    18\n",
       "Name: group, dtype: int64"
      ]
     },
     "metadata": {},
     "execution_count": 66
    }
   ],
   "source": [
    "# minmax scale groups to get only four\n",
    "a, b = 0, 3\n",
    "x, y = min(nodes.group), max(nodes.group)\n",
    "nodes.group = np.ceil(((nodes.group - x) / (y - x) * (b - a) + a))\n",
    "\n",
    "nodes.group.value_counts().sort_index()"
   ]
  },
  {
   "cell_type": "code",
   "execution_count": 67,
   "metadata": {},
   "outputs": [],
   "source": [
    "color_lookup = {0:'aliceblue', 1:'blanchedalmond', 2:'crimson', 3:'darkblue'}"
   ]
  },
  {
   "cell_type": "code",
   "execution_count": 68,
   "metadata": {},
   "outputs": [],
   "source": [
    "nodes[\"colors\"] = nodes.group.apply(lambda x: color_lookup[int(x)])"
   ]
  },
  {
   "cell_type": "code",
   "execution_count": 69,
   "metadata": {},
   "outputs": [],
   "source": [
    "nodes['description'] = [\"SomeDesc\"] * len(nodes)"
   ]
  },
  {
   "cell_type": "code",
   "execution_count": 70,
   "metadata": {},
   "outputs": [],
   "source": [
    "# colors = nx.get_edge_attributes(G,'color').values()\n",
    "# weights = nx.get_edge_attributes(G,'weight').values()"
   ]
  },
  {
   "cell_type": "code",
   "execution_count": 71,
   "metadata": {},
   "outputs": [],
   "source": [
    "def trace_factory(node_cluster, name):\n",
    "    return go.Scatter3d(x = node_cluster.Xn, \n",
    "                        y = node_cluster.Yn, \n",
    "                        z = node_cluster.Zn, \n",
    "                        mode = 'markers + text + lines', \n",
    "                        name = name, \n",
    "                        marker = dict(symbol = 'circle', \n",
    "                                    size = node_cluster.sizes, \n",
    "                                    color = node_cluster.colors.to_list()),\n",
    "                        line = dict(color='rgb(125,125,125)', width=0.5),\n",
    "                        text = node_cluster.name, \n",
    "                        visible = True,\n",
    "                        hoverinfo = 'text',\n",
    "                        showlegend = True,\n",
    "                        customdata = np.stack([node_cluster.description, node_cluster.group], axis = 1),\n",
    "                        hovertemplate = ('%{text}'+\\\n",
    "                        '<br><i>%{customdata[0]}</i><br>'+\\\n",
    "                        '<br><b>Affiliation</b>: %{customdata[1]}<br>'))"
   ]
  },
  {
   "cell_type": "code",
   "execution_count": 72,
   "metadata": {},
   "outputs": [
    {
     "output_type": "display_data",
     "data": {
      "application/vnd.plotly.v1+json": {
       "config": {
        "linkText": "Export to plot.ly",
        "plotlyServerURL": "https://plot.ly",
        "showLink": false
       },
       "data": [
        {
         "customdata": [
          [
           "SomeDesc",
           1
          ],
          [
           "SomeDesc",
           1
          ],
          [
           "SomeDesc",
           1
          ],
          [
           "SomeDesc",
           1
          ],
          [
           "SomeDesc",
           1
          ],
          [
           "SomeDesc",
           1
          ],
          [
           "SomeDesc",
           1
          ],
          [
           "SomeDesc",
           1
          ],
          [
           "SomeDesc",
           1
          ],
          [
           "SomeDesc",
           1
          ],
          [
           "SomeDesc",
           1
          ],
          [
           "SomeDesc",
           1
          ],
          [
           "SomeDesc",
           1
          ],
          [
           "SomeDesc",
           1
          ],
          [
           "SomeDesc",
           1
          ],
          [
           "SomeDesc",
           1
          ],
          [
           "SomeDesc",
           1
          ],
          [
           "SomeDesc",
           1
          ],
          [
           "SomeDesc",
           1
          ],
          [
           "SomeDesc",
           1
          ],
          [
           "SomeDesc",
           1
          ],
          [
           "SomeDesc",
           1
          ],
          [
           "SomeDesc",
           1
          ],
          [
           "SomeDesc",
           1
          ],
          [
           "SomeDesc",
           2
          ],
          [
           "SomeDesc",
           2
          ],
          [
           "SomeDesc",
           2
          ],
          [
           "SomeDesc",
           2
          ],
          [
           "SomeDesc",
           0
          ],
          [
           "SomeDesc",
           1
          ],
          [
           "SomeDesc",
           1
          ],
          [
           "SomeDesc",
           1
          ],
          [
           "SomeDesc",
           1
          ],
          [
           "SomeDesc",
           1
          ],
          [
           "SomeDesc",
           1
          ],
          [
           "SomeDesc",
           1
          ],
          [
           "SomeDesc",
           1
          ],
          [
           "SomeDesc",
           1
          ],
          [
           "SomeDesc",
           1
          ],
          [
           "SomeDesc",
           2
          ],
          [
           "SomeDesc",
           2
          ],
          [
           "SomeDesc",
           2
          ],
          [
           "SomeDesc",
           2
          ],
          [
           "SomeDesc",
           2
          ],
          [
           "SomeDesc",
           0
          ],
          [
           "SomeDesc",
           0
          ],
          [
           "SomeDesc",
           3
          ],
          [
           "SomeDesc",
           3
          ],
          [
           "SomeDesc",
           3
          ],
          [
           "SomeDesc",
           2
          ],
          [
           "SomeDesc",
           2
          ],
          [
           "SomeDesc",
           2
          ],
          [
           "SomeDesc",
           2
          ],
          [
           "SomeDesc",
           2
          ],
          [
           "SomeDesc",
           2
          ],
          [
           "SomeDesc",
           3
          ],
          [
           "SomeDesc",
           2
          ],
          [
           "SomeDesc",
           3
          ],
          [
           "SomeDesc",
           3
          ],
          [
           "SomeDesc",
           3
          ],
          [
           "SomeDesc",
           3
          ],
          [
           "SomeDesc",
           3
          ],
          [
           "SomeDesc",
           3
          ],
          [
           "SomeDesc",
           3
          ],
          [
           "SomeDesc",
           3
          ],
          [
           "SomeDesc",
           3
          ],
          [
           "SomeDesc",
           3
          ],
          [
           "SomeDesc",
           3
          ],
          [
           "SomeDesc",
           2
          ],
          [
           "SomeDesc",
           2
          ],
          [
           "SomeDesc",
           2
          ],
          [
           "SomeDesc",
           2
          ],
          [
           "SomeDesc",
           2
          ],
          [
           "SomeDesc",
           3
          ],
          [
           "SomeDesc",
           3
          ],
          [
           "SomeDesc",
           2
          ],
          [
           "SomeDesc",
           3
          ]
         ],
         "hoverinfo": "text",
         "hovertemplate": "%{text}<br><i>%{customdata[0]}</i><br><br><b>Affiliation</b>: %{customdata[1]}<br>",
         "line": {
          "color": "rgb(125,125,125)",
          "width": 0.5
         },
         "marker": {
          "color": [
           "blanchedalmond",
           "blanchedalmond",
           "blanchedalmond",
           "blanchedalmond",
           "blanchedalmond",
           "blanchedalmond",
           "blanchedalmond",
           "blanchedalmond",
           "blanchedalmond",
           "blanchedalmond",
           "blanchedalmond",
           "blanchedalmond",
           "blanchedalmond",
           "blanchedalmond",
           "blanchedalmond",
           "blanchedalmond",
           "blanchedalmond",
           "blanchedalmond",
           "blanchedalmond",
           "blanchedalmond",
           "blanchedalmond",
           "blanchedalmond",
           "blanchedalmond",
           "blanchedalmond",
           "crimson",
           "crimson",
           "crimson",
           "crimson",
           "aliceblue",
           "blanchedalmond",
           "blanchedalmond",
           "blanchedalmond",
           "blanchedalmond",
           "blanchedalmond",
           "blanchedalmond",
           "blanchedalmond",
           "blanchedalmond",
           "blanchedalmond",
           "blanchedalmond",
           "crimson",
           "crimson",
           "crimson",
           "crimson",
           "crimson",
           "aliceblue",
           "aliceblue",
           "darkblue",
           "darkblue",
           "darkblue",
           "crimson",
           "crimson",
           "crimson",
           "crimson",
           "crimson",
           "crimson",
           "darkblue",
           "crimson",
           "darkblue",
           "darkblue",
           "darkblue",
           "darkblue",
           "darkblue",
           "darkblue",
           "darkblue",
           "darkblue",
           "darkblue",
           "darkblue",
           "darkblue",
           "crimson",
           "crimson",
           "crimson",
           "crimson",
           "crimson",
           "darkblue",
           "darkblue",
           "crimson",
           "darkblue"
          ],
          "size": [
           8.057142857142857,
           6,
           6.457142857142857,
           6.457142857142857,
           6,
           6,
           6,
           6,
           6,
           6,
           6,
           14,
           6.228571428571429,
           6,
           6,
           6,
           7.828571428571428,
           7.371428571428572,
           7.371428571428572,
           7.371428571428572,
           7.371428571428572,
           7.371428571428572,
           7.371428571428572,
           9.2,
           8.285714285714285,
           9.428571428571429,
           8.285714285714285,
           9.657142857142857,
           6.685714285714286,
           7.6,
           6.228571428571429,
           6.685714285714286,
           6,
           6.228571428571429,
           7.142857142857142,
           7.142857142857142,
           7.142857142857142,
           7.142857142857142,
           7.142857142857142,
           6.457142857142857,
           6,
           8.285714285714285,
           6.457142857142857,
           6.457142857142857,
           6.228571428571429,
           6,
           6,
           6.228571428571429,
           10.8,
           7.371428571428572,
           6.228571428571429,
           7.371428571428572,
           6.228571428571429,
           6,
           6.685714285714286,
           10.114285714285714,
           6.228571428571429,
           8.285714285714285,
           9.2,
           8.285714285714285,
           7.828571428571428,
           8.285714285714285,
           8.742857142857144,
           8.514285714285714,
           8.742857142857144,
           8.514285714285714,
           8.057142857142857,
           6,
           8.057142857142857,
           8.057142857142857,
           8.057142857142857,
           7.828571428571428,
           6.457142857142857,
           6.228571428571429,
           6.228571428571429,
           7.371428571428572,
           7.371428571428572
          ],
          "symbol": "circle"
         },
         "mode": "markers+text+lines",
         "name": "all",
         "showlegend": true,
         "text": [
          "Myriel",
          "Napoleon",
          "Mlle.Baptistine",
          "Mme.Magloire",
          "CountessdeLo",
          "Geborand",
          "Champtercier",
          "Cravatte",
          "Count",
          "OldMan",
          "Labarre",
          "Valjean",
          "Marguerite",
          "Mme.deR",
          "Isabeau",
          "Gervais",
          "Tholomyes",
          "Listolier",
          "Fameuil",
          "Blacheville",
          "Favourite",
          "Dahlia",
          "Zephine",
          "Fantine",
          "Mme.Thenardier",
          "Thenardier",
          "Cosette",
          "Javert",
          "Fauchelevent",
          "Bamatabois",
          "Perpetue",
          "Simplice",
          "Scaufflaire",
          "Woman1",
          "Judge",
          "Champmathieu",
          "Brevet",
          "Chenildieu",
          "Cochepaille",
          "Pontmercy",
          "Boulatruelle",
          "Eponine",
          "Anzelma",
          "Woman2",
          "MotherInnocent",
          "Gribier",
          "Jondrette",
          "Mme.Burgon",
          "Gavroche",
          "Gillenormand",
          "Magnon",
          "Mlle.Gillenormand",
          "Mme.Pontmercy",
          "Mlle.Vaubois",
          "Lt.Gillenormand",
          "Marius",
          "BaronessT",
          "Mabeuf",
          "Enjolras",
          "Combeferre",
          "Prouvaire",
          "Feuilly",
          "Courfeyrac",
          "Bahorel",
          "Bossuet",
          "Joly",
          "Grantaire",
          "MotherPlutarch",
          "Gueulemer",
          "Babet",
          "Claquesous",
          "Montparnasse",
          "Toussaint",
          "Child1",
          "Child2",
          "Brujon",
          "Mme.Hucheloup"
         ],
         "type": "scatter3d",
         "visible": true,
         "x": [
          0.018336391969473627,
          0.21534451884383676,
          -0.05071497467618809,
          -0.1391147896543586,
          0.7057013991532882,
          -0.26209295245603464,
          -0.2940807680514556,
          0.6765125020909488,
          -0.4666205691080617,
          0.5444521830408914,
          -0.8488339539975526,
          -0.04850166616572514,
          -0.21354301825107327,
          0.40852471556847636,
          0.7476176578223737,
          -0.8697560423388435,
          0.026772820824763302,
          0.11256982376354514,
          0.16134846640961523,
          0.034297659773576475,
          0.09508967532870279,
          0.12836074868520655,
          -0.009943625740204711,
          0.0005630325456890569,
          0.11683083435549554,
          0.05311442501158154,
          0.06632647090345027,
          0.03348251335204636,
          0.056915387674647044,
          -0.14475950278258926,
          -0.4298109503716583,
          -0.28469965817726256,
          -0.9545143896775441,
          -0.5201614750590944,
          -0.1804225340795184,
          -0.3541434032584754,
          -0.3994444243118735,
          -0.25139228737598446,
          -0.26040403856648964,
          0.156106728247842,
          -0.916059088669442,
          0.0893659965365137,
          -0.062458818368100195,
          0.261128171662294,
          -0.4089498752322735,
          0.6661180765132586,
          -0.3910544367520692,
          0.000851068863522484,
          0.001087970718614562,
          0.1888391814364723,
          0.47253352529582476,
          -0.06266562957060177,
          0.6234405644653284,
          -0.8462197509925474,
          -0.414182717884677,
          0.07570449599990803,
          0.8680167329178566,
          0.23216471611509593,
          0.08071760049490236,
          0.13921186217852824,
          0.1855956775796284,
          0.18586842870748221,
          0.11030627968625863,
          0.14596669275349897,
          0.03703953044263286,
          0.05485767612426779,
          0.04856421123960875,
          0.30233260575125304,
          0.24122265816288757,
          0.2658462070820948,
          0.17155466918874412,
          0.3085357871806896,
          0.5370410546840344,
          -0.5067219067321943,
          -0.33543491199579306,
          0.4408759812882262,
          -0.16635321813718856
         ],
         "y": [
          -0.1774584228765919,
          -0.8749371422593432,
          -0.1455314378507437,
          -0.18577220107725517,
          -0.5215436975636966,
          0.22322505856791763,
          0.5745018423380858,
          0.4548577035435111,
          -0.458967196356248,
          -0.46575868303454077,
          -0.5898460118541353,
          0.05071581650634925,
          -0.6521832981604841,
          -0.5623981886851896,
          0.5792810297449177,
          0.38002986819802664,
          -0.62545898420908,
          -0.5845736844810233,
          -0.8415886035360959,
          -0.8661873589175841,
          -0.8759613201383606,
          -0.8218990567690089,
          -0.8483424297023265,
          -0.417499050026416,
          0.21608882656564304,
          0.24135845861268335,
          -0.015664027565169342,
          0.06821688050387639,
          0.1993285535147482,
          0.31368440139927845,
          -0.9745409025298009,
          -0.47604418505179247,
          0.28783536323863496,
          0.40001845277530884,
          0.4007827978142279,
          0.35618592751434486,
          0.3816975819377078,
          0.24864678329026876,
          0.4979481894870341,
          -0.5013446494508323,
          -0.19627987823523543,
          0.4096149712572871,
          0.7728048993669449,
          0.02745456456698064,
          0.5009262967910878,
          -0.005390076099144818,
          0.3687962111321778,
          0.7310210168908643,
          0.1469647623326593,
          -0.003737423355897291,
          0.6308195407651124,
          -0.15249729697543077,
          -0.6169835676151627,
          -0.316957571782484,
          -0.06404584581487749,
          0.056072909864218444,
          0.0578068321643738,
          0.45504074247396914,
          0.13880443834715764,
          0.20537126775204295,
          0.19916427363019434,
          0.20065729749087746,
          0.1417056690574781,
          0.06834640490184427,
          0.13341693438438326,
          0.18897656338900531,
          0.13556449985342542,
          0.7524264937529065,
          0.4527945217072566,
          0.36230670227104156,
          0.4974990377419312,
          0.5317209790313356,
          -0.0779871723179662,
          -0.21980738442964395,
          -0.3415380925465424,
          0.46154661926892854,
          -0.023303144469943308
         ],
         "z": [
          0.43655169830123786,
          -0.3409635571662948,
          0.6182853196577537,
          0.5560712830806047,
          0.5889047629363195,
          1,
          0.8232616660305753,
          0.6421747676941436,
          -0.1983883684774729,
          0.8295917460034482,
          -0.1981451550277694,
          0.08366238667451256,
          0.512331357168871,
          -0.6641141218955959,
          -0.3017257011787271,
          0.19865258121173646,
          -0.005124963841148998,
          -0.026814884005327402,
          -0.018915283494136747,
          -0.03657282987133071,
          0.07156573750259203,
          0.14286675816226163,
          0.09928918444031709,
          0.08689670768887832,
          0.0938974001126656,
          -0.01093640366092029,
          -0.016910332824125046,
          -0.0402718534561979,
          0.41738276098674737,
          0.365884118498161,
          0.006621633142459021,
          0.04876403684455494,
          -0.16430490819970414,
          -0.07761531198788041,
          0.24432883539629066,
          0.40462065683750453,
          0.5521166590377521,
          0.5073734536596739,
          0.5333029772536878,
          0.31644521345218896,
          -0.003067802061676587,
          -0.19627439217469642,
          -0.08274653800256421,
          0.41995253238521074,
          0.36807378012510306,
          0.7014493741679151,
          -0.7234991897617058,
          -0.3230624276353978,
          -0.3784653346964433,
          -0.08074488437473656,
          0.45827835111326787,
          -0.11303587376717576,
          0.13609343001530047,
          -0.5481741589258348,
          -0.08324640271855573,
          -0.23256200368215366,
          -0.3062091062487908,
          -0.45234180974181043,
          -0.4703335356624982,
          -0.5812527310060639,
          -0.8435912171515622,
          -0.7036416970729532,
          -0.5618861726921897,
          -0.6645017985891871,
          -0.6012015312578329,
          -0.7082506415504247,
          -0.8868353625538128,
          0.14065000944666306,
          -0.0020848875339523447,
          -0.07208268259383484,
          -0.09499503262337301,
          -0.19230696848839376,
          0.11868317669097297,
          0.14018704762526082,
          0.2358863964521227,
          -0.036476319629478914,
          -0.8564236225130232
         ]
        },
        {
         "customdata": [
          [
           "SomeDesc",
           0
          ],
          [
           "SomeDesc",
           0
          ],
          [
           "SomeDesc",
           0
          ]
         ],
         "hoverinfo": "text",
         "hovertemplate": "%{text}<br><i>%{customdata[0]}</i><br><br><b>Affiliation</b>: %{customdata[1]}<br>",
         "line": {
          "color": "rgb(125,125,125)",
          "width": 0.5
         },
         "marker": {
          "color": [
           "aliceblue",
           "aliceblue",
           "aliceblue"
          ],
          "size": [
           6.685714285714286,
           6.228571428571429,
           6
          ],
          "symbol": "circle"
         },
         "mode": "markers+text+lines",
         "name": "group0",
         "showlegend": true,
         "text": [
          "Fauchelevent",
          "MotherInnocent",
          "Gribier"
         ],
         "type": "scatter3d",
         "visible": true,
         "x": [
          0.056915387674647044,
          -0.4089498752322735,
          0.6661180765132586
         ],
         "y": [
          0.1993285535147482,
          0.5009262967910878,
          -0.005390076099144818
         ],
         "z": [
          0.41738276098674737,
          0.36807378012510306,
          0.7014493741679151
         ]
        },
        {
         "customdata": [
          [
           "SomeDesc",
           1
          ],
          [
           "SomeDesc",
           1
          ],
          [
           "SomeDesc",
           1
          ],
          [
           "SomeDesc",
           1
          ],
          [
           "SomeDesc",
           1
          ],
          [
           "SomeDesc",
           1
          ],
          [
           "SomeDesc",
           1
          ],
          [
           "SomeDesc",
           1
          ],
          [
           "SomeDesc",
           1
          ],
          [
           "SomeDesc",
           1
          ],
          [
           "SomeDesc",
           1
          ],
          [
           "SomeDesc",
           1
          ],
          [
           "SomeDesc",
           1
          ],
          [
           "SomeDesc",
           1
          ],
          [
           "SomeDesc",
           1
          ],
          [
           "SomeDesc",
           1
          ],
          [
           "SomeDesc",
           1
          ],
          [
           "SomeDesc",
           1
          ],
          [
           "SomeDesc",
           1
          ],
          [
           "SomeDesc",
           1
          ],
          [
           "SomeDesc",
           1
          ],
          [
           "SomeDesc",
           1
          ],
          [
           "SomeDesc",
           1
          ],
          [
           "SomeDesc",
           1
          ],
          [
           "SomeDesc",
           1
          ],
          [
           "SomeDesc",
           1
          ],
          [
           "SomeDesc",
           1
          ],
          [
           "SomeDesc",
           1
          ],
          [
           "SomeDesc",
           1
          ],
          [
           "SomeDesc",
           1
          ],
          [
           "SomeDesc",
           1
          ],
          [
           "SomeDesc",
           1
          ],
          [
           "SomeDesc",
           1
          ],
          [
           "SomeDesc",
           1
          ]
         ],
         "hoverinfo": "text",
         "hovertemplate": "%{text}<br><i>%{customdata[0]}</i><br><br><b>Affiliation</b>: %{customdata[1]}<br>",
         "line": {
          "color": "rgb(125,125,125)",
          "width": 0.5
         },
         "marker": {
          "color": [
           "blanchedalmond",
           "blanchedalmond",
           "blanchedalmond",
           "blanchedalmond",
           "blanchedalmond",
           "blanchedalmond",
           "blanchedalmond",
           "blanchedalmond",
           "blanchedalmond",
           "blanchedalmond",
           "blanchedalmond",
           "blanchedalmond",
           "blanchedalmond",
           "blanchedalmond",
           "blanchedalmond",
           "blanchedalmond",
           "blanchedalmond",
           "blanchedalmond",
           "blanchedalmond",
           "blanchedalmond",
           "blanchedalmond",
           "blanchedalmond",
           "blanchedalmond",
           "blanchedalmond",
           "blanchedalmond",
           "blanchedalmond",
           "blanchedalmond",
           "blanchedalmond",
           "blanchedalmond",
           "blanchedalmond",
           "blanchedalmond",
           "blanchedalmond",
           "blanchedalmond",
           "blanchedalmond"
          ],
          "size": [
           8.057142857142857,
           6,
           6.457142857142857,
           6.457142857142857,
           6,
           6,
           6,
           6,
           6,
           6,
           6,
           14,
           6.228571428571429,
           6,
           6,
           6,
           7.828571428571428,
           7.371428571428572,
           7.371428571428572,
           7.371428571428572,
           7.371428571428572,
           7.371428571428572,
           7.371428571428572,
           9.2,
           7.6,
           6.228571428571429,
           6.685714285714286,
           6,
           6.228571428571429,
           7.142857142857142,
           7.142857142857142,
           7.142857142857142,
           7.142857142857142,
           7.142857142857142
          ],
          "symbol": "circle"
         },
         "mode": "markers+text+lines",
         "name": "group1",
         "showlegend": true,
         "text": [
          "Myriel",
          "Napoleon",
          "Mlle.Baptistine",
          "Mme.Magloire",
          "CountessdeLo",
          "Geborand",
          "Champtercier",
          "Cravatte",
          "Count",
          "OldMan",
          "Labarre",
          "Valjean",
          "Marguerite",
          "Mme.deR",
          "Isabeau",
          "Gervais",
          "Tholomyes",
          "Listolier",
          "Fameuil",
          "Blacheville",
          "Favourite",
          "Dahlia",
          "Zephine",
          "Fantine",
          "Bamatabois",
          "Perpetue",
          "Simplice",
          "Scaufflaire",
          "Woman1",
          "Judge",
          "Champmathieu",
          "Brevet",
          "Chenildieu",
          "Cochepaille"
         ],
         "type": "scatter3d",
         "visible": true,
         "x": [
          0.018336391969473627,
          0.21534451884383676,
          -0.05071497467618809,
          -0.1391147896543586,
          0.7057013991532882,
          -0.26209295245603464,
          -0.2940807680514556,
          0.6765125020909488,
          -0.4666205691080617,
          0.5444521830408914,
          -0.8488339539975526,
          -0.04850166616572514,
          -0.21354301825107327,
          0.40852471556847636,
          0.7476176578223737,
          -0.8697560423388435,
          0.026772820824763302,
          0.11256982376354514,
          0.16134846640961523,
          0.034297659773576475,
          0.09508967532870279,
          0.12836074868520655,
          -0.009943625740204711,
          0.0005630325456890569,
          -0.14475950278258926,
          -0.4298109503716583,
          -0.28469965817726256,
          -0.9545143896775441,
          -0.5201614750590944,
          -0.1804225340795184,
          -0.3541434032584754,
          -0.3994444243118735,
          -0.25139228737598446,
          -0.26040403856648964
         ],
         "y": [
          -0.1774584228765919,
          -0.8749371422593432,
          -0.1455314378507437,
          -0.18577220107725517,
          -0.5215436975636966,
          0.22322505856791763,
          0.5745018423380858,
          0.4548577035435111,
          -0.458967196356248,
          -0.46575868303454077,
          -0.5898460118541353,
          0.05071581650634925,
          -0.6521832981604841,
          -0.5623981886851896,
          0.5792810297449177,
          0.38002986819802664,
          -0.62545898420908,
          -0.5845736844810233,
          -0.8415886035360959,
          -0.8661873589175841,
          -0.8759613201383606,
          -0.8218990567690089,
          -0.8483424297023265,
          -0.417499050026416,
          0.31368440139927845,
          -0.9745409025298009,
          -0.47604418505179247,
          0.28783536323863496,
          0.40001845277530884,
          0.4007827978142279,
          0.35618592751434486,
          0.3816975819377078,
          0.24864678329026876,
          0.4979481894870341
         ],
         "z": [
          0.43655169830123786,
          -0.3409635571662948,
          0.6182853196577537,
          0.5560712830806047,
          0.5889047629363195,
          1,
          0.8232616660305753,
          0.6421747676941436,
          -0.1983883684774729,
          0.8295917460034482,
          -0.1981451550277694,
          0.08366238667451256,
          0.512331357168871,
          -0.6641141218955959,
          -0.3017257011787271,
          0.19865258121173646,
          -0.005124963841148998,
          -0.026814884005327402,
          -0.018915283494136747,
          -0.03657282987133071,
          0.07156573750259203,
          0.14286675816226163,
          0.09928918444031709,
          0.08689670768887832,
          0.365884118498161,
          0.006621633142459021,
          0.04876403684455494,
          -0.16430490819970414,
          -0.07761531198788041,
          0.24432883539629066,
          0.40462065683750453,
          0.5521166590377521,
          0.5073734536596739,
          0.5333029772536878
         ]
        },
        {
         "customdata": [
          [
           "SomeDesc",
           2
          ],
          [
           "SomeDesc",
           2
          ],
          [
           "SomeDesc",
           2
          ],
          [
           "SomeDesc",
           2
          ],
          [
           "SomeDesc",
           2
          ],
          [
           "SomeDesc",
           2
          ],
          [
           "SomeDesc",
           2
          ],
          [
           "SomeDesc",
           2
          ],
          [
           "SomeDesc",
           2
          ],
          [
           "SomeDesc",
           2
          ],
          [
           "SomeDesc",
           2
          ],
          [
           "SomeDesc",
           2
          ],
          [
           "SomeDesc",
           2
          ],
          [
           "SomeDesc",
           2
          ],
          [
           "SomeDesc",
           2
          ],
          [
           "SomeDesc",
           2
          ],
          [
           "SomeDesc",
           2
          ],
          [
           "SomeDesc",
           2
          ],
          [
           "SomeDesc",
           2
          ],
          [
           "SomeDesc",
           2
          ],
          [
           "SomeDesc",
           2
          ],
          [
           "SomeDesc",
           2
          ]
         ],
         "hoverinfo": "text",
         "hovertemplate": "%{text}<br><i>%{customdata[0]}</i><br><br><b>Affiliation</b>: %{customdata[1]}<br>",
         "line": {
          "color": "rgb(125,125,125)",
          "width": 0.5
         },
         "marker": {
          "color": [
           "crimson",
           "crimson",
           "crimson",
           "crimson",
           "crimson",
           "crimson",
           "crimson",
           "crimson",
           "crimson",
           "crimson",
           "crimson",
           "crimson",
           "crimson",
           "crimson",
           "crimson",
           "crimson",
           "crimson",
           "crimson",
           "crimson",
           "crimson",
           "crimson",
           "crimson"
          ],
          "size": [
           8.285714285714285,
           9.428571428571429,
           8.285714285714285,
           9.657142857142857,
           6.457142857142857,
           6,
           8.285714285714285,
           6.457142857142857,
           6.457142857142857,
           7.371428571428572,
           6.228571428571429,
           7.371428571428572,
           6.228571428571429,
           6,
           6.685714285714286,
           6.228571428571429,
           8.057142857142857,
           8.057142857142857,
           8.057142857142857,
           7.828571428571428,
           6.457142857142857,
           7.371428571428572
          ],
          "symbol": "circle"
         },
         "mode": "markers+text+lines",
         "name": "group2",
         "showlegend": true,
         "text": [
          "Mme.Thenardier",
          "Thenardier",
          "Cosette",
          "Javert",
          "Pontmercy",
          "Boulatruelle",
          "Eponine",
          "Anzelma",
          "Woman2",
          "Gillenormand",
          "Magnon",
          "Mlle.Gillenormand",
          "Mme.Pontmercy",
          "Mlle.Vaubois",
          "Lt.Gillenormand",
          "BaronessT",
          "Gueulemer",
          "Babet",
          "Claquesous",
          "Montparnasse",
          "Toussaint",
          "Brujon"
         ],
         "type": "scatter3d",
         "visible": true,
         "x": [
          0.11683083435549554,
          0.05311442501158154,
          0.06632647090345027,
          0.03348251335204636,
          0.156106728247842,
          -0.916059088669442,
          0.0893659965365137,
          -0.062458818368100195,
          0.261128171662294,
          0.1888391814364723,
          0.47253352529582476,
          -0.06266562957060177,
          0.6234405644653284,
          -0.8462197509925474,
          -0.414182717884677,
          0.8680167329178566,
          0.24122265816288757,
          0.2658462070820948,
          0.17155466918874412,
          0.3085357871806896,
          0.5370410546840344,
          0.4408759812882262
         ],
         "y": [
          0.21608882656564304,
          0.24135845861268335,
          -0.015664027565169342,
          0.06821688050387639,
          -0.5013446494508323,
          -0.19627987823523543,
          0.4096149712572871,
          0.7728048993669449,
          0.02745456456698064,
          -0.003737423355897291,
          0.6308195407651124,
          -0.15249729697543077,
          -0.6169835676151627,
          -0.316957571782484,
          -0.06404584581487749,
          0.0578068321643738,
          0.4527945217072566,
          0.36230670227104156,
          0.4974990377419312,
          0.5317209790313356,
          -0.0779871723179662,
          0.46154661926892854
         ],
         "z": [
          0.0938974001126656,
          -0.01093640366092029,
          -0.016910332824125046,
          -0.0402718534561979,
          0.31644521345218896,
          -0.003067802061676587,
          -0.19627439217469642,
          -0.08274653800256421,
          0.41995253238521074,
          -0.08074488437473656,
          0.45827835111326787,
          -0.11303587376717576,
          0.13609343001530047,
          -0.5481741589258348,
          -0.08324640271855573,
          -0.3062091062487908,
          -0.0020848875339523447,
          -0.07208268259383484,
          -0.09499503262337301,
          -0.19230696848839376,
          0.11868317669097297,
          -0.036476319629478914
         ]
        },
        {
         "customdata": [
          [
           "SomeDesc",
           3
          ],
          [
           "SomeDesc",
           3
          ],
          [
           "SomeDesc",
           3
          ],
          [
           "SomeDesc",
           3
          ],
          [
           "SomeDesc",
           3
          ],
          [
           "SomeDesc",
           3
          ],
          [
           "SomeDesc",
           3
          ],
          [
           "SomeDesc",
           3
          ],
          [
           "SomeDesc",
           3
          ],
          [
           "SomeDesc",
           3
          ],
          [
           "SomeDesc",
           3
          ],
          [
           "SomeDesc",
           3
          ],
          [
           "SomeDesc",
           3
          ],
          [
           "SomeDesc",
           3
          ],
          [
           "SomeDesc",
           3
          ],
          [
           "SomeDesc",
           3
          ],
          [
           "SomeDesc",
           3
          ],
          [
           "SomeDesc",
           3
          ]
         ],
         "hoverinfo": "text",
         "hovertemplate": "%{text}<br><i>%{customdata[0]}</i><br><br><b>Affiliation</b>: %{customdata[1]}<br>",
         "line": {
          "color": "rgb(125,125,125)",
          "width": 0.5
         },
         "marker": {
          "color": [
           "darkblue",
           "darkblue",
           "darkblue",
           "darkblue",
           "darkblue",
           "darkblue",
           "darkblue",
           "darkblue",
           "darkblue",
           "darkblue",
           "darkblue",
           "darkblue",
           "darkblue",
           "darkblue",
           "darkblue",
           "darkblue",
           "darkblue",
           "darkblue"
          ],
          "size": [
           6,
           6.228571428571429,
           10.8,
           10.114285714285714,
           8.285714285714285,
           9.2,
           8.285714285714285,
           7.828571428571428,
           8.285714285714285,
           8.742857142857144,
           8.514285714285714,
           8.742857142857144,
           8.514285714285714,
           8.057142857142857,
           6,
           6.228571428571429,
           6.228571428571429,
           7.371428571428572
          ],
          "symbol": "circle"
         },
         "mode": "markers+text+lines",
         "name": "group3",
         "showlegend": true,
         "text": [
          "Jondrette",
          "Mme.Burgon",
          "Gavroche",
          "Marius",
          "Mabeuf",
          "Enjolras",
          "Combeferre",
          "Prouvaire",
          "Feuilly",
          "Courfeyrac",
          "Bahorel",
          "Bossuet",
          "Joly",
          "Grantaire",
          "MotherPlutarch",
          "Child1",
          "Child2",
          "Mme.Hucheloup"
         ],
         "type": "scatter3d",
         "visible": true,
         "x": [
          -0.3910544367520692,
          0.000851068863522484,
          0.001087970718614562,
          0.07570449599990803,
          0.23216471611509593,
          0.08071760049490236,
          0.13921186217852824,
          0.1855956775796284,
          0.18586842870748221,
          0.11030627968625863,
          0.14596669275349897,
          0.03703953044263286,
          0.05485767612426779,
          0.04856421123960875,
          0.30233260575125304,
          -0.5067219067321943,
          -0.33543491199579306,
          -0.16635321813718856
         ],
         "y": [
          0.3687962111321778,
          0.7310210168908643,
          0.1469647623326593,
          0.056072909864218444,
          0.45504074247396914,
          0.13880443834715764,
          0.20537126775204295,
          0.19916427363019434,
          0.20065729749087746,
          0.1417056690574781,
          0.06834640490184427,
          0.13341693438438326,
          0.18897656338900531,
          0.13556449985342542,
          0.7524264937529065,
          -0.21980738442964395,
          -0.3415380925465424,
          -0.023303144469943308
         ],
         "z": [
          -0.7234991897617058,
          -0.3230624276353978,
          -0.3784653346964433,
          -0.23256200368215366,
          -0.45234180974181043,
          -0.4703335356624982,
          -0.5812527310060639,
          -0.8435912171515622,
          -0.7036416970729532,
          -0.5618861726921897,
          -0.6645017985891871,
          -0.6012015312578329,
          -0.7082506415504247,
          -0.8868353625538128,
          0.14065000944666306,
          0.14018704762526082,
          0.2358863964521227,
          -0.8564236225130232
         ]
        }
       ],
       "layout": {
        "height": 700,
        "scene": {
         "xaxis": {
          "showbackground": false,
          "showgrid": false,
          "showline": false,
          "showspikes": false,
          "showticklabels": false,
          "title": {
           "text": ""
          },
          "zeroline": false
         },
         "yaxis": {
          "showbackground": false,
          "showgrid": false,
          "showline": false,
          "showspikes": false,
          "showticklabels": false,
          "title": {
           "text": ""
          },
          "zeroline": false
         },
         "zaxis": {
          "showbackground": false,
          "showgrid": false,
          "showline": false,
          "showspikes": false,
          "showticklabels": false,
          "title": {
           "text": ""
          },
          "zeroline": false
         }
        },
        "showlegend": true,
        "template": {
         "data": {
          "bar": [
           {
            "error_x": {
             "color": "#2a3f5f"
            },
            "error_y": {
             "color": "#2a3f5f"
            },
            "marker": {
             "line": {
              "color": "#E5ECF6",
              "width": 0.5
             }
            },
            "type": "bar"
           }
          ],
          "barpolar": [
           {
            "marker": {
             "line": {
              "color": "#E5ECF6",
              "width": 0.5
             }
            },
            "type": "barpolar"
           }
          ],
          "carpet": [
           {
            "aaxis": {
             "endlinecolor": "#2a3f5f",
             "gridcolor": "white",
             "linecolor": "white",
             "minorgridcolor": "white",
             "startlinecolor": "#2a3f5f"
            },
            "baxis": {
             "endlinecolor": "#2a3f5f",
             "gridcolor": "white",
             "linecolor": "white",
             "minorgridcolor": "white",
             "startlinecolor": "#2a3f5f"
            },
            "type": "carpet"
           }
          ],
          "choropleth": [
           {
            "colorbar": {
             "outlinewidth": 0,
             "ticks": ""
            },
            "type": "choropleth"
           }
          ],
          "contour": [
           {
            "colorbar": {
             "outlinewidth": 0,
             "ticks": ""
            },
            "colorscale": [
             [
              0,
              "#0d0887"
             ],
             [
              0.1111111111111111,
              "#46039f"
             ],
             [
              0.2222222222222222,
              "#7201a8"
             ],
             [
              0.3333333333333333,
              "#9c179e"
             ],
             [
              0.4444444444444444,
              "#bd3786"
             ],
             [
              0.5555555555555556,
              "#d8576b"
             ],
             [
              0.6666666666666666,
              "#ed7953"
             ],
             [
              0.7777777777777778,
              "#fb9f3a"
             ],
             [
              0.8888888888888888,
              "#fdca26"
             ],
             [
              1,
              "#f0f921"
             ]
            ],
            "type": "contour"
           }
          ],
          "contourcarpet": [
           {
            "colorbar": {
             "outlinewidth": 0,
             "ticks": ""
            },
            "type": "contourcarpet"
           }
          ],
          "heatmap": [
           {
            "colorbar": {
             "outlinewidth": 0,
             "ticks": ""
            },
            "colorscale": [
             [
              0,
              "#0d0887"
             ],
             [
              0.1111111111111111,
              "#46039f"
             ],
             [
              0.2222222222222222,
              "#7201a8"
             ],
             [
              0.3333333333333333,
              "#9c179e"
             ],
             [
              0.4444444444444444,
              "#bd3786"
             ],
             [
              0.5555555555555556,
              "#d8576b"
             ],
             [
              0.6666666666666666,
              "#ed7953"
             ],
             [
              0.7777777777777778,
              "#fb9f3a"
             ],
             [
              0.8888888888888888,
              "#fdca26"
             ],
             [
              1,
              "#f0f921"
             ]
            ],
            "type": "heatmap"
           }
          ],
          "heatmapgl": [
           {
            "colorbar": {
             "outlinewidth": 0,
             "ticks": ""
            },
            "colorscale": [
             [
              0,
              "#0d0887"
             ],
             [
              0.1111111111111111,
              "#46039f"
             ],
             [
              0.2222222222222222,
              "#7201a8"
             ],
             [
              0.3333333333333333,
              "#9c179e"
             ],
             [
              0.4444444444444444,
              "#bd3786"
             ],
             [
              0.5555555555555556,
              "#d8576b"
             ],
             [
              0.6666666666666666,
              "#ed7953"
             ],
             [
              0.7777777777777778,
              "#fb9f3a"
             ],
             [
              0.8888888888888888,
              "#fdca26"
             ],
             [
              1,
              "#f0f921"
             ]
            ],
            "type": "heatmapgl"
           }
          ],
          "histogram": [
           {
            "marker": {
             "colorbar": {
              "outlinewidth": 0,
              "ticks": ""
             }
            },
            "type": "histogram"
           }
          ],
          "histogram2d": [
           {
            "colorbar": {
             "outlinewidth": 0,
             "ticks": ""
            },
            "colorscale": [
             [
              0,
              "#0d0887"
             ],
             [
              0.1111111111111111,
              "#46039f"
             ],
             [
              0.2222222222222222,
              "#7201a8"
             ],
             [
              0.3333333333333333,
              "#9c179e"
             ],
             [
              0.4444444444444444,
              "#bd3786"
             ],
             [
              0.5555555555555556,
              "#d8576b"
             ],
             [
              0.6666666666666666,
              "#ed7953"
             ],
             [
              0.7777777777777778,
              "#fb9f3a"
             ],
             [
              0.8888888888888888,
              "#fdca26"
             ],
             [
              1,
              "#f0f921"
             ]
            ],
            "type": "histogram2d"
           }
          ],
          "histogram2dcontour": [
           {
            "colorbar": {
             "outlinewidth": 0,
             "ticks": ""
            },
            "colorscale": [
             [
              0,
              "#0d0887"
             ],
             [
              0.1111111111111111,
              "#46039f"
             ],
             [
              0.2222222222222222,
              "#7201a8"
             ],
             [
              0.3333333333333333,
              "#9c179e"
             ],
             [
              0.4444444444444444,
              "#bd3786"
             ],
             [
              0.5555555555555556,
              "#d8576b"
             ],
             [
              0.6666666666666666,
              "#ed7953"
             ],
             [
              0.7777777777777778,
              "#fb9f3a"
             ],
             [
              0.8888888888888888,
              "#fdca26"
             ],
             [
              1,
              "#f0f921"
             ]
            ],
            "type": "histogram2dcontour"
           }
          ],
          "mesh3d": [
           {
            "colorbar": {
             "outlinewidth": 0,
             "ticks": ""
            },
            "type": "mesh3d"
           }
          ],
          "parcoords": [
           {
            "line": {
             "colorbar": {
              "outlinewidth": 0,
              "ticks": ""
             }
            },
            "type": "parcoords"
           }
          ],
          "pie": [
           {
            "automargin": true,
            "type": "pie"
           }
          ],
          "scatter": [
           {
            "marker": {
             "colorbar": {
              "outlinewidth": 0,
              "ticks": ""
             }
            },
            "type": "scatter"
           }
          ],
          "scatter3d": [
           {
            "line": {
             "colorbar": {
              "outlinewidth": 0,
              "ticks": ""
             }
            },
            "marker": {
             "colorbar": {
              "outlinewidth": 0,
              "ticks": ""
             }
            },
            "type": "scatter3d"
           }
          ],
          "scattercarpet": [
           {
            "marker": {
             "colorbar": {
              "outlinewidth": 0,
              "ticks": ""
             }
            },
            "type": "scattercarpet"
           }
          ],
          "scattergeo": [
           {
            "marker": {
             "colorbar": {
              "outlinewidth": 0,
              "ticks": ""
             }
            },
            "type": "scattergeo"
           }
          ],
          "scattergl": [
           {
            "marker": {
             "colorbar": {
              "outlinewidth": 0,
              "ticks": ""
             }
            },
            "type": "scattergl"
           }
          ],
          "scattermapbox": [
           {
            "marker": {
             "colorbar": {
              "outlinewidth": 0,
              "ticks": ""
             }
            },
            "type": "scattermapbox"
           }
          ],
          "scatterpolar": [
           {
            "marker": {
             "colorbar": {
              "outlinewidth": 0,
              "ticks": ""
             }
            },
            "type": "scatterpolar"
           }
          ],
          "scatterpolargl": [
           {
            "marker": {
             "colorbar": {
              "outlinewidth": 0,
              "ticks": ""
             }
            },
            "type": "scatterpolargl"
           }
          ],
          "scatterternary": [
           {
            "marker": {
             "colorbar": {
              "outlinewidth": 0,
              "ticks": ""
             }
            },
            "type": "scatterternary"
           }
          ],
          "surface": [
           {
            "colorbar": {
             "outlinewidth": 0,
             "ticks": ""
            },
            "colorscale": [
             [
              0,
              "#0d0887"
             ],
             [
              0.1111111111111111,
              "#46039f"
             ],
             [
              0.2222222222222222,
              "#7201a8"
             ],
             [
              0.3333333333333333,
              "#9c179e"
             ],
             [
              0.4444444444444444,
              "#bd3786"
             ],
             [
              0.5555555555555556,
              "#d8576b"
             ],
             [
              0.6666666666666666,
              "#ed7953"
             ],
             [
              0.7777777777777778,
              "#fb9f3a"
             ],
             [
              0.8888888888888888,
              "#fdca26"
             ],
             [
              1,
              "#f0f921"
             ]
            ],
            "type": "surface"
           }
          ],
          "table": [
           {
            "cells": {
             "fill": {
              "color": "#EBF0F8"
             },
             "line": {
              "color": "white"
             }
            },
            "header": {
             "fill": {
              "color": "#C8D4E3"
             },
             "line": {
              "color": "white"
             }
            },
            "type": "table"
           }
          ]
         },
         "layout": {
          "annotationdefaults": {
           "arrowcolor": "#2a3f5f",
           "arrowhead": 0,
           "arrowwidth": 1
          },
          "autotypenumbers": "strict",
          "coloraxis": {
           "colorbar": {
            "outlinewidth": 0,
            "ticks": ""
           }
          },
          "colorscale": {
           "diverging": [
            [
             0,
             "#8e0152"
            ],
            [
             0.1,
             "#c51b7d"
            ],
            [
             0.2,
             "#de77ae"
            ],
            [
             0.3,
             "#f1b6da"
            ],
            [
             0.4,
             "#fde0ef"
            ],
            [
             0.5,
             "#f7f7f7"
            ],
            [
             0.6,
             "#e6f5d0"
            ],
            [
             0.7,
             "#b8e186"
            ],
            [
             0.8,
             "#7fbc41"
            ],
            [
             0.9,
             "#4d9221"
            ],
            [
             1,
             "#276419"
            ]
           ],
           "sequential": [
            [
             0,
             "#0d0887"
            ],
            [
             0.1111111111111111,
             "#46039f"
            ],
            [
             0.2222222222222222,
             "#7201a8"
            ],
            [
             0.3333333333333333,
             "#9c179e"
            ],
            [
             0.4444444444444444,
             "#bd3786"
            ],
            [
             0.5555555555555556,
             "#d8576b"
            ],
            [
             0.6666666666666666,
             "#ed7953"
            ],
            [
             0.7777777777777778,
             "#fb9f3a"
            ],
            [
             0.8888888888888888,
             "#fdca26"
            ],
            [
             1,
             "#f0f921"
            ]
           ],
           "sequentialminus": [
            [
             0,
             "#0d0887"
            ],
            [
             0.1111111111111111,
             "#46039f"
            ],
            [
             0.2222222222222222,
             "#7201a8"
            ],
            [
             0.3333333333333333,
             "#9c179e"
            ],
            [
             0.4444444444444444,
             "#bd3786"
            ],
            [
             0.5555555555555556,
             "#d8576b"
            ],
            [
             0.6666666666666666,
             "#ed7953"
            ],
            [
             0.7777777777777778,
             "#fb9f3a"
            ],
            [
             0.8888888888888888,
             "#fdca26"
            ],
            [
             1,
             "#f0f921"
            ]
           ]
          },
          "colorway": [
           "#636efa",
           "#EF553B",
           "#00cc96",
           "#ab63fa",
           "#FFA15A",
           "#19d3f3",
           "#FF6692",
           "#B6E880",
           "#FF97FF",
           "#FECB52"
          ],
          "font": {
           "color": "#2a3f5f"
          },
          "geo": {
           "bgcolor": "white",
           "lakecolor": "white",
           "landcolor": "#E5ECF6",
           "showlakes": true,
           "showland": true,
           "subunitcolor": "white"
          },
          "hoverlabel": {
           "align": "left"
          },
          "hovermode": "closest",
          "mapbox": {
           "style": "light"
          },
          "paper_bgcolor": "white",
          "plot_bgcolor": "#E5ECF6",
          "polar": {
           "angularaxis": {
            "gridcolor": "white",
            "linecolor": "white",
            "ticks": ""
           },
           "bgcolor": "#E5ECF6",
           "radialaxis": {
            "gridcolor": "white",
            "linecolor": "white",
            "ticks": ""
           }
          },
          "scene": {
           "xaxis": {
            "backgroundcolor": "#E5ECF6",
            "gridcolor": "white",
            "gridwidth": 2,
            "linecolor": "white",
            "showbackground": true,
            "ticks": "",
            "zerolinecolor": "white"
           },
           "yaxis": {
            "backgroundcolor": "#E5ECF6",
            "gridcolor": "white",
            "gridwidth": 2,
            "linecolor": "white",
            "showbackground": true,
            "ticks": "",
            "zerolinecolor": "white"
           },
           "zaxis": {
            "backgroundcolor": "#E5ECF6",
            "gridcolor": "white",
            "gridwidth": 2,
            "linecolor": "white",
            "showbackground": true,
            "ticks": "",
            "zerolinecolor": "white"
           }
          },
          "shapedefaults": {
           "line": {
            "color": "#2a3f5f"
           }
          },
          "ternary": {
           "aaxis": {
            "gridcolor": "white",
            "linecolor": "white",
            "ticks": ""
           },
           "baxis": {
            "gridcolor": "white",
            "linecolor": "white",
            "ticks": ""
           },
           "bgcolor": "#E5ECF6",
           "caxis": {
            "gridcolor": "white",
            "linecolor": "white",
            "ticks": ""
           }
          },
          "title": {
           "x": 0.05
          },
          "xaxis": {
           "automargin": true,
           "gridcolor": "white",
           "linecolor": "white",
           "ticks": "",
           "title": {
            "standoff": 15
           },
           "zerolinecolor": "white",
           "zerolinewidth": 2
          },
          "yaxis": {
           "automargin": true,
           "gridcolor": "white",
           "linecolor": "white",
           "ticks": "",
           "title": {
            "standoff": 15
           },
           "zerolinecolor": "white",
           "zerolinewidth": 2
          }
         }
        },
        "title": {
         "text": "Campaign Cast Network"
        },
        "width": 1000
       }
      }
     },
     "metadata": {}
    }
   ],
   "source": [
    "\n",
    "model_data = [trace_factory(nodes, name = \"all\"),\n",
    "              trace_factory(nodes.query(\"group == 0\"), name = \"group0\"),\n",
    "              trace_factory(nodes.query(\"group == 1\"), name = \"group1\"),\n",
    "              trace_factory(nodes.query(\"group == 2\"), name = \"group2\"),\n",
    "              trace_factory(nodes.query(\"group == 3\"), name = \"group3\")]\n",
    "\n",
    "\n",
    "axis = dict(showbackground = False, \n",
    "            showline = False, \n",
    "            zeroline = False, \n",
    "            showgrid = False, \n",
    "            showticklabels = False, \n",
    "            showspikes = False,\n",
    "            title = '')\n",
    "\n",
    "layout = go.Layout(\n",
    "    title = \"Campaign Cast Network\",\n",
    "    width = 1000,\n",
    "    height = 700,\n",
    "    showlegend = True,\n",
    "    scene = dict(\n",
    "        xaxis = dict(axis),\n",
    "        yaxis = dict(axis),\n",
    "        zaxis = dict(axis)))\n",
    "\n",
    "fig = go.Figure(data = model_data, \n",
    "                layout = layout)\n",
    "\n",
    "iplot(fig, filename = 'Les-Miserables')"
   ]
  },
  {
   "cell_type": "code",
   "execution_count": null,
   "metadata": {},
   "outputs": [],
   "source": []
  },
  {
   "cell_type": "code",
   "execution_count": null,
   "metadata": {},
   "outputs": [],
   "source": []
  },
  {
   "cell_type": "code",
   "execution_count": null,
   "metadata": {},
   "outputs": [],
   "source": []
  },
  {
   "cell_type": "code",
   "execution_count": null,
   "metadata": {},
   "outputs": [],
   "source": []
  }
 ]
}