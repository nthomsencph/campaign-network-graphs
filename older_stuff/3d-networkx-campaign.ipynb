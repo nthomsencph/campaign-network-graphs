{
 "metadata": {
  "language_info": {
   "codemirror_mode": {
    "name": "ipython",
    "version": 3
   },
   "file_extension": ".py",
   "mimetype": "text/x-python",
   "name": "python",
   "nbconvert_exporter": "python",
   "pygments_lexer": "ipython3",
   "version": "3.9.0"
  },
  "orig_nbformat": 2,
  "kernelspec": {
   "name": "python390jvsc74a57bd0cdca4814736c2b984bdf5215b94f0bcc9a77ea4f6884ab2f7b7b179442aef4c4",
   "display_name": "Python 3.9.0 64-bit ('campaign-venv')"
  }
 },
 "nbformat": 4,
 "nbformat_minor": 2,
 "cells": [
  {
   "source": [
    "First crate a venv and install required packages in the requirements.txt file <br>\n",
    "Here's the data: https://docs.google.com/spreadsheets/d/1gQ69WDBNpTIegl1pKKwLvN2KJfTRnird6_2P41_qwfo/edit#gid=1435699897"
   ],
   "cell_type": "markdown",
   "metadata": {}
  },
  {
   "cell_type": "code",
   "execution_count": 21,
   "metadata": {},
   "outputs": [],
   "source": [
    "# imports\n",
    "from plotly.offline import iplot\n",
    "import plotly.graph_objs as go\n",
    "import pandas as pd\n",
    "import numpy as np\n",
    "import random\n",
    "import networkx as nx   "
   ]
  },
  {
   "source": [
    "### import from google \n",
    "We export in a CSV-format and read it into a Pandas DataFrame"
   ],
   "cell_type": "markdown",
   "metadata": {}
  },
  {
   "cell_type": "code",
   "execution_count": 22,
   "metadata": {},
   "outputs": [],
   "source": [
    "def import_data(sheet_name, sheet_id = \"1gQ69WDBNpTIegl1pKKwLvN2KJfTRnird6_2P41_qwfo\"):\n",
    "    return pd.read_csv(f\"https://docs.google.com/spreadsheets/d/{sheet_id}/export?format=csv&gid={sheet_name}\")"
   ]
  },
  {
   "cell_type": "code",
   "execution_count": 23,
   "metadata": {},
   "outputs": [
    {
     "output_type": "execute_result",
     "data": {
      "text/plain": [
       "((35, 4), (45, 3))"
      ]
     },
     "metadata": {},
     "execution_count": 23
    }
   ],
   "source": [
    "nodes = import_data(\"1157642109\")\n",
    "links = import_data(\"1435699897\")\n",
    "nodes.shape, links.shape"
   ]
  },
  {
   "source": [
    "### encoded faction/group categories as integers"
   ],
   "cell_type": "markdown",
   "metadata": {}
  },
  {
   "cell_type": "code",
   "execution_count": 24,
   "metadata": {},
   "outputs": [
    {
     "output_type": "execute_result",
     "data": {
      "text/plain": [
       "(35, 5)"
      ]
     },
     "metadata": {},
     "execution_count": 24
    }
   ],
   "source": [
    "nodes.group = pd.Categorical(nodes.group)\n",
    "nodes['group_id'] = nodes.group.cat.codes\n",
    "nodes.shape"
   ]
  },
  {
   "source": [
    "### Adding node sizes\n",
    "Size of each node is based on mentions of said node character in the 'links' table. Uncomment code below to normalize node size"
   ],
   "cell_type": "markdown",
   "metadata": {}
  },
  {
   "cell_type": "code",
   "execution_count": 6,
   "metadata": {},
   "outputs": [
    {
     "output_type": "execute_result",
     "data": {
      "text/plain": [
       "(35, 6)"
      ]
     },
     "metadata": {},
     "execution_count": 6
    }
   ],
   "source": [
    "sizes = links.Target.append(links.Source).value_counts()\n",
    "\n",
    "nodes = nodes.merge(pd.DataFrame({\"Source\" : sizes.index,\n",
    "                                  \"Size\" : sizes.values}), \n",
    "                    left_on = \"name\",\n",
    "                    right_on = \"Source\",\n",
    "                    how = \"left\") \\\n",
    "                    .drop(\"Source\", axis = 1)\n",
    "                                                      \n",
    "\n",
    "nodes.Size = nodes.Size.fillna(nodes.Size.mean())\n",
    "\n",
    "# a, b = 1, 2\n",
    "# x, y = min(nodes.Size), max(nodes.Size)\n",
    "# nodes.Size = (nodes.Size - x) / (y - x) * (b - a) + a\n",
    "\n",
    "nodes.shape"
   ]
  },
  {
   "cell_type": "code",
   "execution_count": null,
   "metadata": {},
   "outputs": [],
   "source": []
  },
  {
   "source": [
    "### set random (but consistent) group color\n",
    "We can put specific desired colors later on"
   ],
   "cell_type": "markdown",
   "metadata": {}
  },
  {
   "cell_type": "code",
   "execution_count": 6,
   "metadata": {},
   "outputs": [],
   "source": [
    "def random_color(i):\n",
    "    random.seed(i)\n",
    "    r = lambda: random.randint(0,255)\n",
    "    return '#%02X%02X%02X' % ( r(), r(), r() )"
   ]
  },
  {
   "cell_type": "code",
   "execution_count": 7,
   "metadata": {},
   "outputs": [],
   "source": [
    "nodes[\"group_color\"] = nodes.group_id.apply(lambda x: random_color(x))"
   ]
  },
  {
   "source": [
    "### create graph object and add nodes"
   ],
   "cell_type": "markdown",
   "metadata": {}
  },
  {
   "cell_type": "code",
   "execution_count": 8,
   "metadata": {},
   "outputs": [],
   "source": [
    "dnd = nx.Graph() # define our base graph object"
   ]
  },
  {
   "cell_type": "code",
   "execution_count": 9,
   "metadata": {},
   "outputs": [
    {
     "output_type": "execute_result",
     "data": {
      "text/plain": [
       "(35, 35)"
      ]
     },
     "metadata": {},
     "execution_count": 9
    }
   ],
   "source": [
    "for idx, char in nodes.iterrows():\n",
    "        dnd.add_node(char.name,\n",
    "                     size = char.Size,\n",
    "                     name = char.name,\n",
    "                     color = random_color(char.group_id),\n",
    "                     description = char.description,\n",
    "                     weight = 1,\n",
    "                     group = char.group) \n",
    "\n",
    "len(dnd.nodes()), len(nodes) # sanity check"
   ]
  },
  {
   "source": [
    "### Create node lookup object to easily get index from name\n",
    "And to avoid slow dataframe query functions"
   ],
   "cell_type": "markdown",
   "metadata": {}
  },
  {
   "cell_type": "code",
   "execution_count": 10,
   "metadata": {},
   "outputs": [],
   "source": [
    "node_lookup = dict(zip(nodes.name, nodes.index))"
   ]
  },
  {
   "source": [
    "### define relation color group"
   ],
   "cell_type": "markdown",
   "metadata": {}
  },
  {
   "cell_type": "code",
   "execution_count": 11,
   "metadata": {},
   "outputs": [],
   "source": [
    "rel_color_lookup = {\"Friend\" : \"green\", \n",
    "                    \"Foe\" : 'red', \n",
    "                    \"Unknown\" : 'blue'}\n",
    "                    \n",
    "links[\"rel_color\"] = links.Relation.apply(lambda x: rel_color_lookup[x])"
   ]
  },
  {
   "source": [
    "### Add edges (links) to graph object\n",
    "Note that a relationship like kivani <-> cissa is actually the same as cissa <-> kivani and will get treated as just one relation.\n",
    "This is because we are doing undirected nodes"
   ],
   "cell_type": "markdown",
   "metadata": {}
  },
  {
   "cell_type": "code",
   "execution_count": 12,
   "metadata": {},
   "outputs": [],
   "source": [
    "# for each co-appearance between two characters, add an edge\n",
    "for idx, link in links.iterrows():\n",
    "    dnd.add_edge(node_lookup[link.Source], \n",
    "                 node_lookup[link.Target], \n",
    "                 weight = 1, \n",
    "                 color = link.rel_color)"
   ]
  },
  {
   "cell_type": "code",
   "execution_count": 13,
   "metadata": {},
   "outputs": [
    {
     "output_type": "execute_result",
     "data": {
      "text/plain": [
       "(24, (45, 4))"
      ]
     },
     "metadata": {},
     "execution_count": 13
    }
   ],
   "source": [
    "dnd.number_of_edges(), links.shape # kivani <-> cissa == cissa <-> kivani, so shape is different"
   ]
  },
  {
   "cell_type": "code",
   "execution_count": 14,
   "metadata": {},
   "outputs": [
    {
     "output_type": "stream",
     "name": "stdout",
     "text": [
      "Nodes of graph:  35\nEdges of graps:  24\n"
     ]
    }
   ],
   "source": [
    "print(\"Nodes of graph: \", len(dnd.nodes()))\n",
    "print(\"Edges of graps: \", len(dnd.edges()))"
   ]
  },
  {
   "cell_type": "code",
   "execution_count": 15,
   "metadata": {},
   "outputs": [],
   "source": [
    "def create_node_trace(node_cluster, name):\n",
    "    return go.Scatter3d(x = node_cluster.Xn, \n",
    "                        y = node_cluster.Yn, \n",
    "                        z = node_cluster.Zn, \n",
    "                        mode = 'markers + text', \n",
    "                        name = name, \n",
    "                        marker = dict(symbol = 'circle', \n",
    "                                    size = node_cluster.Size, \n",
    "                                    color = node_cluster.group_color),\n",
    "                        line = dict(color='rgb(125,125,125)', width=0.5),\n",
    "                        text = node_cluster.name, \n",
    "                        visible = True,\n",
    "                        hoverinfo = 'text',\n",
    "                        showlegend = True,\n",
    "                        customdata = np.stack([node_cluster.description, \n",
    "                                               node_cluster.group], \n",
    "                                               axis = 1),\n",
    "                        hovertemplate = ('%{text}'+\\\n",
    "                                        '<br><i>%{customdata[0]}</i><br>'+\\\n",
    "                                        '<b>Affiliation</b>: %{customdata[1]}<br>'))\n",
    "\n",
    "def create_edge_trace(edge_x, edge_y, edge_z, edge_cluster, name):\n",
    "    return go.Scatter3d(x = edge_x, \n",
    "                        y = edge_y, \n",
    "                        z = edge_z,\n",
    "                        name = name,\n",
    "                        text = edge_cluster.Relation,\n",
    "                        line = dict(width=1,\n",
    "                                    color=edge_cluster.rel_color),\n",
    "                        visible = True,\n",
    "                        hoverinfo= 'text',\n",
    "                        mode='lines')\n"
   ]
  },
  {
   "cell_type": "code",
   "execution_count": 16,
   "metadata": {},
   "outputs": [],
   "source": [
    "def get_node_coordinates(graph_obj, layout):\n",
    "    \n",
    "    Xn, Yn, Zn = [], [], []\n",
    "    for k in range(graph_obj.number_of_nodes()): \n",
    "        Xn += [ layout[k][0] ] \n",
    "        Yn += [ layout[k][1] ]\n",
    "        Zn += [ layout[k][2] ]\n",
    "\n",
    "    return Xn, Yn, Zn\n",
    "\n",
    "def get_link_coordinates(graph_obj, nodes_df):\n",
    "    \n",
    "\n",
    "    edge_x, edge_y, edge_z = [], [], []\n",
    "    for edge in graph_obj.edges():\n",
    "        x0, y0, z0 = nodes_df.loc[edge[0]][[\"Xn\", \"Yn\", \"Zn\"]].values\n",
    "        x1, y1, z1 = nodes_df.loc[edge[1]][[\"Xn\", \"Yn\", \"Zn\"]].values\n",
    "        edge_x.append(x0)\n",
    "        edge_x.append(x1)\n",
    "        edge_x.append(None) # I'll be perfectly honest. I have no idea why we append these None elements. But it works!\n",
    "        edge_y.append(y0)\n",
    "        edge_y.append(y1)\n",
    "        edge_y.append(None)\n",
    "        edge_z.append(z0)\n",
    "        edge_z.append(z1)\n",
    "        edge_z.append(None)\n",
    "\n",
    "    return edge_x, edge_y, edge_z"
   ]
  },
  {
   "source": [
    "### Fit graph objects to chosen layout\n",
    "We can try different layouts with different parameters"
   ],
   "cell_type": "markdown",
   "metadata": {}
  },
  {
   "cell_type": "code",
   "execution_count": 28,
   "metadata": {},
   "outputs": [],
   "source": [
    "pos_ = nx.spring_layout(dnd, dim = 3, k = 2, iterations = 100, threshold = 0.00001, seed = 93) # get coordinates for nodes in spring layoyt \n",
    "# print(pos_)"
   ]
  },
  {
   "source": [
    "### Placed nodes and add traces\n",
    "(traces are effectively plots that are plotted on top of each other)"
   ],
   "cell_type": "markdown",
   "metadata": {}
  },
  {
   "cell_type": "code",
   "execution_count": 29,
   "metadata": {},
   "outputs": [],
   "source": [
    "placed_nodes = pd.merge(nodes, pd.DataFrame(zip(*get_node_coordinates(dnd, pos_)), \n",
    "                                     columns = [\"Xn\", \"Yn\", \"Zn\"]),\n",
    "                                     left_index = True,\n",
    "                                     right_index = True)\n",
    "\n",
    "\n",
    "node_trace = create_node_trace(placed_nodes,\n",
    "                               name = \"all\")\n",
    "\n",
    "edge_trace = create_edge_trace(*get_link_coordinates(dnd, placed_nodes), \n",
    "                               links, \n",
    "                               name = \"edges\")"
   ]
  },
  {
   "source": [
    "### Configure layout and show plot"
   ],
   "cell_type": "markdown",
   "metadata": {}
  },
  {
   "cell_type": "code",
   "execution_count": 30,
   "metadata": {},
   "outputs": [
    {
     "output_type": "display_data",
     "data": {
      "application/vnd.plotly.v1+json": {
       "config": {
        "linkText": "Export to plot.ly",
        "plotlyServerURL": "https://plot.ly",
        "showLink": false
       },
       "data": [
        {
         "hoverinfo": "text",
         "line": {
          "color": [
           "green",
           "green",
           "green",
           "green",
           "green",
           "green",
           "green",
           "green",
           "green",
           "green",
           "green",
           "green",
           "green",
           "green",
           "green",
           "green",
           "green",
           "green",
           "green",
           "green",
           "green",
           "green",
           "green",
           "green",
           "green",
           "green",
           "green",
           "green",
           "green",
           "green",
           "green",
           "green",
           "green",
           "green",
           "green",
           "green",
           "green",
           "green",
           "green",
           "green",
           "green",
           "green",
           "green",
           "green",
           "green"
          ],
          "width": 1
         },
         "mode": "lines",
         "name": "edges",
         "text": [
          "Friend",
          "Friend",
          "Friend",
          "Friend",
          "Friend",
          "Friend",
          "Friend",
          "Friend",
          "Friend",
          "Friend",
          "Friend",
          "Friend",
          "Friend",
          "Friend",
          "Friend",
          "Friend",
          "Friend",
          "Friend",
          "Friend",
          "Friend",
          "Friend",
          "Friend",
          "Friend",
          "Friend",
          "Friend",
          "Friend",
          "Friend",
          "Friend",
          "Friend",
          "Friend",
          "Friend",
          "Friend",
          "Friend",
          "Friend",
          "Friend",
          "Friend",
          "Friend",
          "Friend",
          "Friend",
          "Friend",
          "Friend",
          "Friend",
          "Friend",
          "Friend",
          "Friend"
         ],
         "type": "scatter3d",
         "visible": true,
         "x": [
          -0.4812717468753292,
          -0.4809386251896748,
          null,
          -0.4812717468753292,
          -0.24735525868028943,
          null,
          -0.4812717468753292,
          -0.16370805917528772,
          null,
          -0.4812717468753292,
          -0.28837149787835825,
          null,
          -0.4812717468753292,
          -0.642232308271499,
          null,
          -0.4812717468753292,
          -0.7761572844668955,
          null,
          -0.4812717468753292,
          -0.7841688375366159,
          null,
          -0.4812717468753292,
          -0.6781934297963335,
          null,
          -0.4809386251896748,
          -0.24735525868028943,
          null,
          -0.4809386251896748,
          -0.16370805917528772,
          null,
          -0.4809386251896748,
          -0.28837149787835825,
          null,
          -0.4809386251896748,
          -0.642232308271499,
          null,
          -0.4809386251896748,
          -0.7761572844668955,
          null,
          -0.4809386251896748,
          -0.7841688375366159,
          null,
          -0.4809386251896748,
          -0.6781934297963335,
          null,
          -0.24735525868028943,
          -0.16370805917528772,
          null,
          -0.16370805917528772,
          -0.28837149787835825,
          null,
          -0.28837149787835825,
          -0.642232308271499,
          null,
          -0.28837149787835825,
          -0.7761572844668955,
          null,
          -0.642232308271499,
          -0.6781934297963335,
          null,
          -0.642232308271499,
          -0.7761572844668955,
          null,
          -0.7761572844668955,
          -0.6781934297963335,
          null,
          -0.7761572844668955,
          -0.7841688375366159,
          null,
          -0.7841688375366159,
          -0.6781934297963335,
          null
         ],
         "y": [
          0.18360562531757166,
          0.07692749359933296,
          null,
          0.18360562531757166,
          0.012590206758851454,
          null,
          0.18360562531757166,
          0.05399583683329892,
          null,
          0.18360562531757166,
          -0.21157474996901995,
          null,
          0.18360562531757166,
          0.12614526190666991,
          null,
          0.18360562531757166,
          -0.03833810396837954,
          null,
          0.18360562531757166,
          0.3193335166607522,
          null,
          0.18360562531757166,
          0.4303723301907294,
          null,
          0.07692749359933296,
          0.012590206758851454,
          null,
          0.07692749359933296,
          0.05399583683329892,
          null,
          0.07692749359933296,
          -0.21157474996901995,
          null,
          0.07692749359933296,
          0.12614526190666991,
          null,
          0.07692749359933296,
          -0.03833810396837954,
          null,
          0.07692749359933296,
          0.3193335166607522,
          null,
          0.07692749359933296,
          0.4303723301907294,
          null,
          0.012590206758851454,
          0.05399583683329892,
          null,
          0.05399583683329892,
          -0.21157474996901995,
          null,
          -0.21157474996901995,
          0.12614526190666991,
          null,
          -0.21157474996901995,
          -0.03833810396837954,
          null,
          0.12614526190666991,
          0.4303723301907294,
          null,
          0.12614526190666991,
          -0.03833810396837954,
          null,
          -0.03833810396837954,
          0.4303723301907294,
          null,
          -0.03833810396837954,
          0.3193335166607522,
          null,
          0.3193335166607522,
          0.4303723301907294,
          null
         ],
         "z": [
          -0.2638991761880395,
          -0.07063308261543812,
          null,
          -0.2638991761880395,
          -0.5464080570428711,
          null,
          -0.2638991761880395,
          0.019831349970424073,
          null,
          -0.2638991761880395,
          -0.129422397077327,
          null,
          -0.2638991761880395,
          -0.5521953857235478,
          null,
          -0.2638991761880395,
          -0.20333814970798664,
          null,
          -0.2638991761880395,
          0.12708399673432905,
          null,
          -0.2638991761880395,
          -0.33001448785114307,
          null,
          -0.07063308261543812,
          -0.5464080570428711,
          null,
          -0.07063308261543812,
          0.019831349970424073,
          null,
          -0.07063308261543812,
          -0.129422397077327,
          null,
          -0.07063308261543812,
          -0.5521953857235478,
          null,
          -0.07063308261543812,
          -0.20333814970798664,
          null,
          -0.07063308261543812,
          0.12708399673432905,
          null,
          -0.07063308261543812,
          -0.33001448785114307,
          null,
          -0.5464080570428711,
          0.019831349970424073,
          null,
          0.019831349970424073,
          -0.129422397077327,
          null,
          -0.129422397077327,
          -0.5521953857235478,
          null,
          -0.129422397077327,
          -0.20333814970798664,
          null,
          -0.5521953857235478,
          -0.33001448785114307,
          null,
          -0.5521953857235478,
          -0.20333814970798664,
          null,
          -0.20333814970798664,
          -0.33001448785114307,
          null,
          -0.20333814970798664,
          0.12708399673432905,
          null,
          0.12708399673432905,
          -0.33001448785114307,
          null
         ]
        },
        {
         "customdata": [
          [
           "a very evil book",
           "Unknown"
          ],
          [
           "a tricky fellow",
           "Captain Rick"
          ],
          [
           "superstar blind wizard",
           "Crew"
          ],
          [
           "mellow yellow fellow",
           "Crew"
          ],
          [
           "grumpy dwarf",
           "Crew"
          ],
          [
           "doppelganger?",
           "Doppelgangers"
          ],
          [
           "doppelganger?",
           "Doppelgangers"
          ],
          [
           null,
           "Doppelgangers"
          ],
          [
           "mercenary law enforcement",
           "Flaming Fist"
          ],
          [
           "don't mess with him",
           "Hunters"
          ],
          [
           "tinfoil conspiracy theorist",
           "Hunters"
          ],
          [
           "aide to faenorra",
           "Last Port"
          ],
          [
           "ambitiou king of the mayors",
           "Last Port"
          ],
          [
           "a wise man",
           "Last Port"
          ],
          [
           "adventuring bard",
           "Party"
          ],
          [
           "magic initiate",
           "Party"
          ],
          [
           "bored security",
           "Party"
          ],
          [
           "rapier killer",
           "Party"
          ],
          [
           "aspiring monster hunter",
           "Party"
          ],
          [
           "playboy investigaror",
           "Party"
          ],
          [
           "cleric on a mission",
           "Party"
          ],
          [
           "paladin with a dark side",
           "Party"
          ],
          [
           "princess with an attitude",
           "Party"
          ],
          [
           "man? in need of a cure",
           "Severed Eyes"
          ],
          [
           "barkeep and utter madman",
           "The Guild"
          ],
          [
           "prettiest hag you've ever seen",
           "The Guild"
          ],
          [
           "not a goblin",
           "The Guild"
          ],
          [
           "brain eaters",
           "The Mindflayers"
          ],
          [
           "such a cute \"dog\"",
           "The Mindflayers"
          ],
          [
           "nevermore",
           "The Raven Queen"
          ],
          [
           "it's hungry",
           "Unknown"
          ],
          [
           "long suffering butler",
           "The Vizier"
          ],
          [
           "he's in control",
           "The Vizier"
          ],
          [
           "leader of the cannibal elves",
           "The Vizier"
          ],
          [
           "Archdevil formerly trapped in a shielf. Former patron of Kivani",
           "Unknown"
          ]
         ],
         "hoverinfo": "text",
         "hovertemplate": "%{text}<br><i>%{customdata[0]}</i><br><b>Affiliation</b>: %{customdata[1]}<br>",
         "line": {
          "color": "rgb(125,125,125)",
          "width": 0.5
         },
         "marker": {
          "color": [
           "#F289B3",
           "#C5D714",
           "#442082",
           "#442082",
           "#442082",
           "#1C2E2B",
           "#1C2E2B",
           "#1C2E2B",
           "#7942BD",
           "#789B34",
           "#789B34",
           "#82B70E",
           "#82B70E",
           "#82B70E",
           "#29F885",
           "#29F885",
           "#29F885",
           "#29F885",
           "#29F885",
           "#29F885",
           "#29F885",
           "#29F885",
           "#29F885",
           "#A54DCA",
           "#74BDC0",
           "#74BDC0",
           "#74BDC0",
           "#EDBF88",
           "#EDBF88",
           "#10DBF7",
           "#F289B3",
           "#E7EEE7",
           "#E7EEE7",
           "#E7EEE7",
           "#F289B3"
          ],
          "size": [
           10,
           10,
           10,
           10,
           10,
           10,
           10,
           10,
           10,
           10,
           10,
           10,
           10,
           10,
           16,
           16,
           6,
           7,
           8,
           9,
           10,
           8,
           10,
           10,
           10,
           10,
           10,
           10,
           10,
           10,
           10,
           10,
           10,
           10,
           10
          ],
          "symbol": "circle"
         },
         "mode": "markers+text",
         "name": "all",
         "showlegend": true,
         "text": [
          "The Book",
          "Captain Rick",
          "Turi",
          "Kira",
          "Dwarf",
          "Fake Cissa",
          "Fake Kivani",
          "Night's King",
          "Captain Zodge",
          "Milosh",
          "Nika",
          "Talon",
          "Mayor Ulrik",
          "Randir",
          "Cissa",
          "Kivani",
          "Kuruntu",
          "Timothy",
          "Bellhop",
          "Bishop",
          "Kurozor",
          "Aedh",
          "Faenorra",
          "Severed Eye",
          "Ribbons",
          "Whiskey Lady",
          "The Goblin",
          "The Mindflayers",
          "Dog",
          "The Raven Queen",
          "The Thing at the Center",
          "Zed",
          "The Vizier",
          "Queen Tiala",
          "Gargauth"
         ],
         "type": "scatter3d",
         "visible": true,
         "x": [
          0.31747831930788845,
          0.8665468629027687,
          0.9149489399538105,
          0.8065874953298501,
          1,
          0.41306263314307834,
          0.32145702270270654,
          -0.8610720233545185,
          0.48142197807173714,
          -0.4368682844383694,
          -0.6588077492289098,
          0.5324188672330736,
          -0.3538627051128044,
          0.5112428339682267,
          -0.4812717468753292,
          -0.4809386251896748,
          -0.24735525868028943,
          -0.16370805917528772,
          -0.28837149787835825,
          -0.642232308271499,
          -0.7761572844668955,
          -0.7841688375366159,
          -0.6781934297963335,
          0.53168960957146,
          0.7845123658391923,
          -0.19500194278505623,
          -0.390102281650172,
          0.6671251164237849,
          0.8695322031118475,
          0.10175247962088914,
          -0.17581971619474632,
          -0.3578858660462334,
          -0.4015752643122288,
          -0.8104599076865502,
          0.06407606149955722
         ],
         "y": [
          0.5211525763254367,
          -0.17146818833159785,
          0.4819621073903697,
          -0.5980431068745663,
          -0.1460383579666119,
          -0.30581240974586893,
          0.08212262357251769,
          0.2721663225336273,
          0.6227742107137918,
          0.6087963401795347,
          -0.16055451390932252,
          -0.694131154097676,
          -0.843364467735633,
          0.8690004734568679,
          0.18360562531757166,
          0.07692749359933296,
          0.012590206758851454,
          0.05399583683329892,
          -0.21157474996901995,
          0.12614526190666991,
          -0.03833810396837954,
          0.3193335166607522,
          0.4303723301907294,
          -0.5572012603016425,
          -0.01447563422504296,
          0.8314226896186893,
          -0.5738938659831349,
          0.5461302686870564,
          0.30308947892487187,
          -0.8257064818656037,
          0.9044698900316267,
          -0.1659926887347256,
          -0.6016099221440203,
          -0.39030661727171806,
          -0.947545729577033
         ],
         "z": [
          -0.6886902907316176,
          0.5503072211434582,
          0.005734622752060464,
          -0.01385615904756886,
          -0.020447279653582867,
          -0.8349462522396245,
          0.9549988385761877,
          -0.08586319244047928,
          0.6473781498420562,
          0.6588885679521085,
          -0.5164874219251191,
          -0.4258702407606709,
          0.13303672494002117,
          0.012977313405568052,
          -0.2638991761880395,
          -0.07063308261543812,
          -0.5464080570428711,
          0.019831349970424073,
          -0.129422397077327,
          -0.5521953857235478,
          -0.20333814970798664,
          0.12708399673432905,
          -0.33001448785114307,
          0.6935589082683956,
          -0.5787597455652568,
          -0.16895748746289518,
          -0.6992290018485489,
          -0.5709162687027216,
          0.4852442586459454,
          0.5292375122561879,
          0.3436113928539162,
          0.8359390015487399,
          0.6199788727111584,
          0.29467577120655264,
          -0.2125484262226708
         ]
        }
       ],
       "layout": {
        "height": 900,
        "plot_bgcolor": "#696969",
        "scene": {
         "xaxis": {
          "showbackground": false,
          "showgrid": false,
          "showline": false,
          "showspikes": false,
          "showticklabels": false,
          "title": {
           "text": ""
          },
          "zeroline": false
         },
         "yaxis": {
          "showbackground": false,
          "showgrid": false,
          "showline": false,
          "showspikes": false,
          "showticklabels": false,
          "title": {
           "text": ""
          },
          "zeroline": false
         },
         "zaxis": {
          "showbackground": false,
          "showgrid": false,
          "showline": false,
          "showspikes": false,
          "showticklabels": false,
          "title": {
           "text": ""
          },
          "zeroline": false
         }
        },
        "showlegend": true,
        "template": {
         "data": {
          "bar": [
           {
            "error_x": {
             "color": "#2a3f5f"
            },
            "error_y": {
             "color": "#2a3f5f"
            },
            "marker": {
             "line": {
              "color": "#E5ECF6",
              "width": 0.5
             }
            },
            "type": "bar"
           }
          ],
          "barpolar": [
           {
            "marker": {
             "line": {
              "color": "#E5ECF6",
              "width": 0.5
             }
            },
            "type": "barpolar"
           }
          ],
          "carpet": [
           {
            "aaxis": {
             "endlinecolor": "#2a3f5f",
             "gridcolor": "white",
             "linecolor": "white",
             "minorgridcolor": "white",
             "startlinecolor": "#2a3f5f"
            },
            "baxis": {
             "endlinecolor": "#2a3f5f",
             "gridcolor": "white",
             "linecolor": "white",
             "minorgridcolor": "white",
             "startlinecolor": "#2a3f5f"
            },
            "type": "carpet"
           }
          ],
          "choropleth": [
           {
            "colorbar": {
             "outlinewidth": 0,
             "ticks": ""
            },
            "type": "choropleth"
           }
          ],
          "contour": [
           {
            "colorbar": {
             "outlinewidth": 0,
             "ticks": ""
            },
            "colorscale": [
             [
              0,
              "#0d0887"
             ],
             [
              0.1111111111111111,
              "#46039f"
             ],
             [
              0.2222222222222222,
              "#7201a8"
             ],
             [
              0.3333333333333333,
              "#9c179e"
             ],
             [
              0.4444444444444444,
              "#bd3786"
             ],
             [
              0.5555555555555556,
              "#d8576b"
             ],
             [
              0.6666666666666666,
              "#ed7953"
             ],
             [
              0.7777777777777778,
              "#fb9f3a"
             ],
             [
              0.8888888888888888,
              "#fdca26"
             ],
             [
              1,
              "#f0f921"
             ]
            ],
            "type": "contour"
           }
          ],
          "contourcarpet": [
           {
            "colorbar": {
             "outlinewidth": 0,
             "ticks": ""
            },
            "type": "contourcarpet"
           }
          ],
          "heatmap": [
           {
            "colorbar": {
             "outlinewidth": 0,
             "ticks": ""
            },
            "colorscale": [
             [
              0,
              "#0d0887"
             ],
             [
              0.1111111111111111,
              "#46039f"
             ],
             [
              0.2222222222222222,
              "#7201a8"
             ],
             [
              0.3333333333333333,
              "#9c179e"
             ],
             [
              0.4444444444444444,
              "#bd3786"
             ],
             [
              0.5555555555555556,
              "#d8576b"
             ],
             [
              0.6666666666666666,
              "#ed7953"
             ],
             [
              0.7777777777777778,
              "#fb9f3a"
             ],
             [
              0.8888888888888888,
              "#fdca26"
             ],
             [
              1,
              "#f0f921"
             ]
            ],
            "type": "heatmap"
           }
          ],
          "heatmapgl": [
           {
            "colorbar": {
             "outlinewidth": 0,
             "ticks": ""
            },
            "colorscale": [
             [
              0,
              "#0d0887"
             ],
             [
              0.1111111111111111,
              "#46039f"
             ],
             [
              0.2222222222222222,
              "#7201a8"
             ],
             [
              0.3333333333333333,
              "#9c179e"
             ],
             [
              0.4444444444444444,
              "#bd3786"
             ],
             [
              0.5555555555555556,
              "#d8576b"
             ],
             [
              0.6666666666666666,
              "#ed7953"
             ],
             [
              0.7777777777777778,
              "#fb9f3a"
             ],
             [
              0.8888888888888888,
              "#fdca26"
             ],
             [
              1,
              "#f0f921"
             ]
            ],
            "type": "heatmapgl"
           }
          ],
          "histogram": [
           {
            "marker": {
             "colorbar": {
              "outlinewidth": 0,
              "ticks": ""
             }
            },
            "type": "histogram"
           }
          ],
          "histogram2d": [
           {
            "colorbar": {
             "outlinewidth": 0,
             "ticks": ""
            },
            "colorscale": [
             [
              0,
              "#0d0887"
             ],
             [
              0.1111111111111111,
              "#46039f"
             ],
             [
              0.2222222222222222,
              "#7201a8"
             ],
             [
              0.3333333333333333,
              "#9c179e"
             ],
             [
              0.4444444444444444,
              "#bd3786"
             ],
             [
              0.5555555555555556,
              "#d8576b"
             ],
             [
              0.6666666666666666,
              "#ed7953"
             ],
             [
              0.7777777777777778,
              "#fb9f3a"
             ],
             [
              0.8888888888888888,
              "#fdca26"
             ],
             [
              1,
              "#f0f921"
             ]
            ],
            "type": "histogram2d"
           }
          ],
          "histogram2dcontour": [
           {
            "colorbar": {
             "outlinewidth": 0,
             "ticks": ""
            },
            "colorscale": [
             [
              0,
              "#0d0887"
             ],
             [
              0.1111111111111111,
              "#46039f"
             ],
             [
              0.2222222222222222,
              "#7201a8"
             ],
             [
              0.3333333333333333,
              "#9c179e"
             ],
             [
              0.4444444444444444,
              "#bd3786"
             ],
             [
              0.5555555555555556,
              "#d8576b"
             ],
             [
              0.6666666666666666,
              "#ed7953"
             ],
             [
              0.7777777777777778,
              "#fb9f3a"
             ],
             [
              0.8888888888888888,
              "#fdca26"
             ],
             [
              1,
              "#f0f921"
             ]
            ],
            "type": "histogram2dcontour"
           }
          ],
          "mesh3d": [
           {
            "colorbar": {
             "outlinewidth": 0,
             "ticks": ""
            },
            "type": "mesh3d"
           }
          ],
          "parcoords": [
           {
            "line": {
             "colorbar": {
              "outlinewidth": 0,
              "ticks": ""
             }
            },
            "type": "parcoords"
           }
          ],
          "pie": [
           {
            "automargin": true,
            "type": "pie"
           }
          ],
          "scatter": [
           {
            "marker": {
             "colorbar": {
              "outlinewidth": 0,
              "ticks": ""
             }
            },
            "type": "scatter"
           }
          ],
          "scatter3d": [
           {
            "line": {
             "colorbar": {
              "outlinewidth": 0,
              "ticks": ""
             }
            },
            "marker": {
             "colorbar": {
              "outlinewidth": 0,
              "ticks": ""
             }
            },
            "type": "scatter3d"
           }
          ],
          "scattercarpet": [
           {
            "marker": {
             "colorbar": {
              "outlinewidth": 0,
              "ticks": ""
             }
            },
            "type": "scattercarpet"
           }
          ],
          "scattergeo": [
           {
            "marker": {
             "colorbar": {
              "outlinewidth": 0,
              "ticks": ""
             }
            },
            "type": "scattergeo"
           }
          ],
          "scattergl": [
           {
            "marker": {
             "colorbar": {
              "outlinewidth": 0,
              "ticks": ""
             }
            },
            "type": "scattergl"
           }
          ],
          "scattermapbox": [
           {
            "marker": {
             "colorbar": {
              "outlinewidth": 0,
              "ticks": ""
             }
            },
            "type": "scattermapbox"
           }
          ],
          "scatterpolar": [
           {
            "marker": {
             "colorbar": {
              "outlinewidth": 0,
              "ticks": ""
             }
            },
            "type": "scatterpolar"
           }
          ],
          "scatterpolargl": [
           {
            "marker": {
             "colorbar": {
              "outlinewidth": 0,
              "ticks": ""
             }
            },
            "type": "scatterpolargl"
           }
          ],
          "scatterternary": [
           {
            "marker": {
             "colorbar": {
              "outlinewidth": 0,
              "ticks": ""
             }
            },
            "type": "scatterternary"
           }
          ],
          "surface": [
           {
            "colorbar": {
             "outlinewidth": 0,
             "ticks": ""
            },
            "colorscale": [
             [
              0,
              "#0d0887"
             ],
             [
              0.1111111111111111,
              "#46039f"
             ],
             [
              0.2222222222222222,
              "#7201a8"
             ],
             [
              0.3333333333333333,
              "#9c179e"
             ],
             [
              0.4444444444444444,
              "#bd3786"
             ],
             [
              0.5555555555555556,
              "#d8576b"
             ],
             [
              0.6666666666666666,
              "#ed7953"
             ],
             [
              0.7777777777777778,
              "#fb9f3a"
             ],
             [
              0.8888888888888888,
              "#fdca26"
             ],
             [
              1,
              "#f0f921"
             ]
            ],
            "type": "surface"
           }
          ],
          "table": [
           {
            "cells": {
             "fill": {
              "color": "#EBF0F8"
             },
             "line": {
              "color": "white"
             }
            },
            "header": {
             "fill": {
              "color": "#C8D4E3"
             },
             "line": {
              "color": "white"
             }
            },
            "type": "table"
           }
          ]
         },
         "layout": {
          "annotationdefaults": {
           "arrowcolor": "#2a3f5f",
           "arrowhead": 0,
           "arrowwidth": 1
          },
          "autotypenumbers": "strict",
          "coloraxis": {
           "colorbar": {
            "outlinewidth": 0,
            "ticks": ""
           }
          },
          "colorscale": {
           "diverging": [
            [
             0,
             "#8e0152"
            ],
            [
             0.1,
             "#c51b7d"
            ],
            [
             0.2,
             "#de77ae"
            ],
            [
             0.3,
             "#f1b6da"
            ],
            [
             0.4,
             "#fde0ef"
            ],
            [
             0.5,
             "#f7f7f7"
            ],
            [
             0.6,
             "#e6f5d0"
            ],
            [
             0.7,
             "#b8e186"
            ],
            [
             0.8,
             "#7fbc41"
            ],
            [
             0.9,
             "#4d9221"
            ],
            [
             1,
             "#276419"
            ]
           ],
           "sequential": [
            [
             0,
             "#0d0887"
            ],
            [
             0.1111111111111111,
             "#46039f"
            ],
            [
             0.2222222222222222,
             "#7201a8"
            ],
            [
             0.3333333333333333,
             "#9c179e"
            ],
            [
             0.4444444444444444,
             "#bd3786"
            ],
            [
             0.5555555555555556,
             "#d8576b"
            ],
            [
             0.6666666666666666,
             "#ed7953"
            ],
            [
             0.7777777777777778,
             "#fb9f3a"
            ],
            [
             0.8888888888888888,
             "#fdca26"
            ],
            [
             1,
             "#f0f921"
            ]
           ],
           "sequentialminus": [
            [
             0,
             "#0d0887"
            ],
            [
             0.1111111111111111,
             "#46039f"
            ],
            [
             0.2222222222222222,
             "#7201a8"
            ],
            [
             0.3333333333333333,
             "#9c179e"
            ],
            [
             0.4444444444444444,
             "#bd3786"
            ],
            [
             0.5555555555555556,
             "#d8576b"
            ],
            [
             0.6666666666666666,
             "#ed7953"
            ],
            [
             0.7777777777777778,
             "#fb9f3a"
            ],
            [
             0.8888888888888888,
             "#fdca26"
            ],
            [
             1,
             "#f0f921"
            ]
           ]
          },
          "colorway": [
           "#636efa",
           "#EF553B",
           "#00cc96",
           "#ab63fa",
           "#FFA15A",
           "#19d3f3",
           "#FF6692",
           "#B6E880",
           "#FF97FF",
           "#FECB52"
          ],
          "font": {
           "color": "#2a3f5f"
          },
          "geo": {
           "bgcolor": "white",
           "lakecolor": "white",
           "landcolor": "#E5ECF6",
           "showlakes": true,
           "showland": true,
           "subunitcolor": "white"
          },
          "hoverlabel": {
           "align": "left"
          },
          "hovermode": "closest",
          "mapbox": {
           "style": "light"
          },
          "paper_bgcolor": "white",
          "plot_bgcolor": "#E5ECF6",
          "polar": {
           "angularaxis": {
            "gridcolor": "white",
            "linecolor": "white",
            "ticks": ""
           },
           "bgcolor": "#E5ECF6",
           "radialaxis": {
            "gridcolor": "white",
            "linecolor": "white",
            "ticks": ""
           }
          },
          "scene": {
           "xaxis": {
            "backgroundcolor": "#E5ECF6",
            "gridcolor": "white",
            "gridwidth": 2,
            "linecolor": "white",
            "showbackground": true,
            "ticks": "",
            "zerolinecolor": "white"
           },
           "yaxis": {
            "backgroundcolor": "#E5ECF6",
            "gridcolor": "white",
            "gridwidth": 2,
            "linecolor": "white",
            "showbackground": true,
            "ticks": "",
            "zerolinecolor": "white"
           },
           "zaxis": {
            "backgroundcolor": "#E5ECF6",
            "gridcolor": "white",
            "gridwidth": 2,
            "linecolor": "white",
            "showbackground": true,
            "ticks": "",
            "zerolinecolor": "white"
           }
          },
          "shapedefaults": {
           "line": {
            "color": "#2a3f5f"
           }
          },
          "ternary": {
           "aaxis": {
            "gridcolor": "white",
            "linecolor": "white",
            "ticks": ""
           },
           "baxis": {
            "gridcolor": "white",
            "linecolor": "white",
            "ticks": ""
           },
           "bgcolor": "#E5ECF6",
           "caxis": {
            "gridcolor": "white",
            "linecolor": "white",
            "ticks": ""
           }
          },
          "title": {
           "x": 0.05
          },
          "xaxis": {
           "automargin": true,
           "gridcolor": "white",
           "linecolor": "white",
           "ticks": "",
           "title": {
            "standoff": 15
           },
           "zerolinecolor": "white",
           "zerolinewidth": 2
          },
          "yaxis": {
           "automargin": true,
           "gridcolor": "white",
           "linecolor": "white",
           "ticks": "",
           "title": {
            "standoff": 15
           },
           "zerolinecolor": "white",
           "zerolinewidth": 2
          }
         }
        },
        "title": {
         "text": "Campaign Cast Network"
        },
        "width": 1200
       }
      }
     },
     "metadata": {}
    }
   ],
   "source": [
    "axis = dict(showbackground = False, \n",
    "            showline = False, \n",
    "            zeroline = False, \n",
    "            showgrid = False, \n",
    "            showticklabels = False, \n",
    "            showspikes = False,\n",
    "            title = '')\n",
    "\n",
    "layout = go.Layout(\n",
    "    title = \"Campaign Cast Network\",\n",
    "    plot_bgcolor='#696969',\n",
    "    width = 1200,\n",
    "    height = 900,\n",
    "    showlegend = True,\n",
    "    scene = dict(\n",
    "        xaxis = dict(axis),\n",
    "        yaxis = dict(axis),\n",
    "        zaxis = dict(axis)))\n",
    "\n",
    "fig = go.Figure(data = [edge_trace, node_trace], \n",
    "                layout = layout)\n",
    "\n",
    "fig.write_html(\"output/campaign-cast.html\")                \n",
    "\n",
    "iplot(fig, filename = 'campaign')\n"
   ]
  },
  {
   "cell_type": "code",
   "execution_count": null,
   "metadata": {},
   "outputs": [],
   "source": []
  },
  {
   "cell_type": "code",
   "execution_count": null,
   "metadata": {},
   "outputs": [],
   "source": []
  },
  {
   "cell_type": "code",
   "execution_count": null,
   "metadata": {},
   "outputs": [],
   "source": []
  }
 ]
}