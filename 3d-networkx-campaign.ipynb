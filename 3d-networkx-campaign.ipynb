{
 "metadata": {
  "language_info": {
   "codemirror_mode": {
    "name": "ipython",
    "version": 3
   },
   "file_extension": ".py",
   "mimetype": "text/x-python",
   "name": "python",
   "nbconvert_exporter": "python",
   "pygments_lexer": "ipython3",
   "version": "3.9.0"
  },
  "orig_nbformat": 2,
  "kernelspec": {
   "name": "python390jvsc74a57bd0cdca4814736c2b984bdf5215b94f0bcc9a77ea4f6884ab2f7b7b179442aef4c4",
   "display_name": "Python 3.9.0 64-bit ('campaign-venv')"
  }
 },
 "nbformat": 4,
 "nbformat_minor": 2,
 "cells": [
  {
   "source": [
    "First crate a venv and install required packages in the requirements.txt file "
   ],
   "cell_type": "markdown",
   "metadata": {}
  },
  {
   "cell_type": "code",
   "execution_count": 20,
   "metadata": {},
   "outputs": [],
   "source": [
    "# imports\n",
    "from plotly.offline import iplot\n",
    "import plotly.graph_objs as go\n",
    "import pandas as pd\n",
    "import numpy as np\n",
    "import random\n",
    "import networkx as nx   "
   ]
  },
  {
   "source": [
    "### import from google \n",
    "We export in a CSV-format and read it into a Pandas DataFrame"
   ],
   "cell_type": "markdown",
   "metadata": {}
  },
  {
   "cell_type": "code",
   "execution_count": 21,
   "metadata": {},
   "outputs": [],
   "source": [
    "def import_data(sheet_name, sheet_id = \"1gQ69WDBNpTIegl1pKKwLvN2KJfTRnird6_2P41_qwfo\"):\n",
    "    return pd.read_csv(f\"https://docs.google.com/spreadsheets/d/{sheet_id}/export?format=csv&gid={sheet_name}\")"
   ]
  },
  {
   "cell_type": "code",
   "execution_count": 22,
   "metadata": {},
   "outputs": [
    {
     "output_type": "execute_result",
     "data": {
      "text/plain": [
       "((35, 4), (45, 3))"
      ]
     },
     "metadata": {},
     "execution_count": 22
    }
   ],
   "source": [
    "nodes = import_data(\"1157642109\")\n",
    "links = import_data(\"1435699897\")\n",
    "nodes.shape, links.shape"
   ]
  },
  {
   "source": [
    "### encoded faction/group categories as integers"
   ],
   "cell_type": "markdown",
   "metadata": {}
  },
  {
   "cell_type": "code",
   "execution_count": 23,
   "metadata": {},
   "outputs": [
    {
     "output_type": "execute_result",
     "data": {
      "text/plain": [
       "(35, 5)"
      ]
     },
     "metadata": {},
     "execution_count": 23
    }
   ],
   "source": [
    "nodes.group = pd.Categorical(nodes.group)\n",
    "nodes['group_id'] = nodes.group.cat.codes\n",
    "nodes.shape"
   ]
  },
  {
   "source": [
    "### Adding node sizes\n",
    "Size of each node is based on mentions of said node character in the 'links' table. Uncomment code below to normalize node size"
   ],
   "cell_type": "markdown",
   "metadata": {}
  },
  {
   "cell_type": "code",
   "execution_count": 24,
   "metadata": {},
   "outputs": [
    {
     "output_type": "execute_result",
     "data": {
      "text/plain": [
       "(35, 6)"
      ]
     },
     "metadata": {},
     "execution_count": 24
    }
   ],
   "source": [
    "sizes = links[\"Target\"] \\\n",
    "        .value_counts() \\\n",
    "        .sort_index() \\\n",
    "        .add(links[\"Source\"] \\\n",
    "             .value_counts() \\\n",
    "             .sort_index(), \n",
    "             fill_value = 1)\n",
    "\n",
    "nodes = nodes.merge(pd.DataFrame({\"Source\" : sizes.index,\n",
    "                                  \"Size\" : sizes.values}), \n",
    "                    left_on = \"name\",\n",
    "                    right_on = \"Source\",\n",
    "                    how = \"left\") \\\n",
    "                    .drop(\"Source\", axis = 1)\n",
    "                                                      \n",
    "\n",
    "nodes.Size = nodes.Size.fillna(nodes.Size.mean())\n",
    "\n",
    "# a, b = 1, 2\n",
    "# x, y = min(nodes.Size), max(nodes.Size)\n",
    "# nodes.Size = (nodes.Size - x) / (y - x) * (b - a) + a\n",
    "\n",
    "nodes.shape"
   ]
  },
  {
   "source": [
    "### set random (but consistent) group color\n",
    "We can put specific desired colors later on"
   ],
   "cell_type": "markdown",
   "metadata": {}
  },
  {
   "cell_type": "code",
   "execution_count": 25,
   "metadata": {},
   "outputs": [],
   "source": [
    "def random_color(i):\n",
    "    random.seed(i)\n",
    "    r = lambda: random.randint(0,255)\n",
    "    return '#%02X%02X%02X' % ( r(), r(), r() )"
   ]
  },
  {
   "cell_type": "code",
   "execution_count": 26,
   "metadata": {},
   "outputs": [],
   "source": [
    "nodes[\"group_color\"] = nodes.group_id.apply(lambda x: random_color(x))"
   ]
  },
  {
   "source": [
    "### create graph object and add nodes"
   ],
   "cell_type": "markdown",
   "metadata": {}
  },
  {
   "cell_type": "code",
   "execution_count": 27,
   "metadata": {},
   "outputs": [],
   "source": [
    "dnd = nx.Graph() # define our base graph object"
   ]
  },
  {
   "cell_type": "code",
   "execution_count": 28,
   "metadata": {},
   "outputs": [
    {
     "output_type": "execute_result",
     "data": {
      "text/plain": [
       "(35, 35)"
      ]
     },
     "metadata": {},
     "execution_count": 28
    }
   ],
   "source": [
    "for idx, char in nodes.iterrows():\n",
    "        dnd.add_node(char.name,\n",
    "                     size = char.Size,\n",
    "                     name = char.name,\n",
    "                     color = random_color(char.group_id),\n",
    "                     description = char.description,\n",
    "                     weight = 1,\n",
    "                     group = char.group) \n",
    "\n",
    "len(dnd.nodes()), len(nodes) # sanity check"
   ]
  },
  {
   "source": [
    "### Create node lookup object to easily get index from name\n",
    "And to avoid slow dataframe query functions"
   ],
   "cell_type": "markdown",
   "metadata": {}
  },
  {
   "cell_type": "code",
   "execution_count": 29,
   "metadata": {},
   "outputs": [],
   "source": [
    "node_lookup = dict(zip(nodes.name, nodes.index))"
   ]
  },
  {
   "source": [
    "### define relation color group"
   ],
   "cell_type": "markdown",
   "metadata": {}
  },
  {
   "cell_type": "code",
   "execution_count": 30,
   "metadata": {},
   "outputs": [],
   "source": [
    "rel_color_lookup = {\"Friend\" : \"green\", \n",
    "                    \"Foe\" : 'red', \n",
    "                    \"Unknown\" : 'blue'}\n",
    "                    \n",
    "links[\"rel_color\"] = links.Relation.apply(lambda x: rel_color_lookup[x])"
   ]
  },
  {
   "source": [
    "### Add edges (links) to graph object\n",
    "Note that a relationship like kivani <-> cissa is actually the same as cissa <-> kivani and will get treated as just one relation.\n",
    "This is because we are doing undirected nodes"
   ],
   "cell_type": "markdown",
   "metadata": {}
  },
  {
   "cell_type": "code",
   "execution_count": 31,
   "metadata": {},
   "outputs": [],
   "source": [
    "# for each co-appearance between two characters, add an edge\n",
    "for idx, link in links.iterrows():\n",
    "    dnd.add_edge(node_lookup[link.Source], \n",
    "                 node_lookup[link.Target], \n",
    "                 weight = 1, \n",
    "                 color = link.rel_color)"
   ]
  },
  {
   "cell_type": "code",
   "execution_count": 32,
   "metadata": {},
   "outputs": [
    {
     "output_type": "execute_result",
     "data": {
      "text/plain": [
       "(24, (45, 4))"
      ]
     },
     "metadata": {},
     "execution_count": 32
    }
   ],
   "source": [
    "dnd.number_of_edges(), links.shape # kivani <-> cissa == cissa <-> kivani, so shape is different"
   ]
  },
  {
   "cell_type": "code",
   "execution_count": 33,
   "metadata": {},
   "outputs": [
    {
     "output_type": "stream",
     "name": "stdout",
     "text": [
      "Nodes of graph:  35\nEdges of graps:  24\n"
     ]
    }
   ],
   "source": [
    "print(\"Nodes of graph: \", len(dnd.nodes()))\n",
    "print(\"Edges of graps: \", len(dnd.edges()))"
   ]
  },
  {
   "cell_type": "code",
   "execution_count": 34,
   "metadata": {},
   "outputs": [],
   "source": [
    "def create_node_trace(node_cluster, name):\n",
    "    return go.Scatter3d(x = node_cluster.Xn, \n",
    "                        y = node_cluster.Yn, \n",
    "                        z = node_cluster.Zn, \n",
    "                        mode = 'markers + text', \n",
    "                        name = name, \n",
    "                        marker = dict(symbol = 'circle', \n",
    "                                    size = node_cluster.Size, \n",
    "                                    color = node_cluster.group_color),\n",
    "                        line = dict(color='rgb(125,125,125)', width=0.5),\n",
    "                        text = node_cluster.name, \n",
    "                        visible = True,\n",
    "                        hoverinfo = 'text',\n",
    "                        showlegend = True,\n",
    "                        customdata = np.stack([node_cluster.description, \n",
    "                                               node_cluster.group], \n",
    "                                               axis = 1),\n",
    "                        hovertemplate = ('%{text}'+\\\n",
    "                                        '<br><i>%{customdata[0]}</i><br>'+\\\n",
    "                                        '<b>Affiliation</b>: %{customdata[1]}<br>'))\n",
    "\n",
    "def create_edge_trace(edge_x, edge_y, edge_z, edge_cluster, name):\n",
    "    return go.Scatter3d(x = edge_x, \n",
    "                        y = edge_y, \n",
    "                        z = edge_z,\n",
    "                        name = name,\n",
    "                        text = edge_cluster.Relation,\n",
    "                        line = dict(width=1,\n",
    "                                    color=edge_cluster.rel_color),\n",
    "                        visible = True,\n",
    "                        hoverinfo= 'text',\n",
    "                        mode='lines')\n"
   ]
  },
  {
   "cell_type": "code",
   "execution_count": 35,
   "metadata": {},
   "outputs": [],
   "source": [
    "def get_node_coordinates(graph_obj, layout):\n",
    "    \n",
    "    Xn, Yn, Zn = [], [], []\n",
    "    for k in range(graph_obj.number_of_nodes()): \n",
    "        Xn += [ layout[k][0] ] \n",
    "        Yn += [ layout[k][1] ]\n",
    "        Zn += [ layout[k][2] ]\n",
    "\n",
    "    return Xn, Yn, Zn\n",
    "\n",
    "def get_link_coordinates(graph_obj, nodes_df):\n",
    "    \n",
    "\n",
    "    edge_x, edge_y, edge_z = [], [], []\n",
    "    for edge in graph_obj.edges():\n",
    "        x0, y0, z0 = nodes_df.loc[edge[0]][[\"Xn\", \"Yn\", \"Zn\"]].values\n",
    "        x1, y1, z1 = nodes_df.loc[edge[1]][[\"Xn\", \"Yn\", \"Zn\"]].values\n",
    "        edge_x.append(x0)\n",
    "        edge_x.append(x1)\n",
    "        edge_x.append(None) # I'll be perfectly honest. I have no idea why we append these None elements. But it works!\n",
    "        edge_y.append(y0)\n",
    "        edge_y.append(y1)\n",
    "        edge_y.append(None)\n",
    "        edge_z.append(z0)\n",
    "        edge_z.append(z1)\n",
    "        edge_z.append(None)\n",
    "\n",
    "    return edge_x, edge_y, edge_z"
   ]
  },
  {
   "source": [
    "### Fit graph objects to chosen layout\n",
    "We can try different layouts with different parameters"
   ],
   "cell_type": "markdown",
   "metadata": {}
  },
  {
   "cell_type": "code",
   "execution_count": 36,
   "metadata": {},
   "outputs": [],
   "source": [
    "pos_ = nx.spring_layout(dnd, dim = 3, k = 0.8, iterations = 50) # get coordinates for nodes in spring layoyt \n",
    "# print(pos_)"
   ]
  },
  {
   "source": [
    "### Placed nodes and add traces\n",
    "(traces are effectively plots that are plotted on top of each other)"
   ],
   "cell_type": "markdown",
   "metadata": {}
  },
  {
   "cell_type": "code",
   "execution_count": 37,
   "metadata": {},
   "outputs": [],
   "source": [
    "placed_nodes = pd.merge(nodes, pd.DataFrame(zip(*get_node_coordinates(dnd, pos_)), \n",
    "                                     columns = [\"Xn\", \"Yn\", \"Zn\"]),\n",
    "                                     left_index = True,\n",
    "                                     right_index = True)\n",
    "\n",
    "\n",
    "node_trace = create_node_trace(placed_nodes,\n",
    "                               name = \"all\")\n",
    "\n",
    "edge_trace = create_edge_trace(*get_link_coordinates(dnd, placed_nodes), \n",
    "                               links, \n",
    "                               name = \"edges\")"
   ]
  },
  {
   "source": [
    "### Configure layout and show plot"
   ],
   "cell_type": "markdown",
   "metadata": {}
  },
  {
   "cell_type": "code",
   "execution_count": 38,
   "metadata": {},
   "outputs": [
    {
     "output_type": "display_data",
     "data": {
      "application/vnd.plotly.v1+json": {
       "config": {
        "linkText": "Export to plot.ly",
        "plotlyServerURL": "https://plot.ly",
        "showLink": false
       },
       "data": [
        {
         "hoverinfo": "text",
         "line": {
          "color": [
           "green",
           "green",
           "green",
           "green",
           "green",
           "green",
           "green",
           "green",
           "green",
           "green",
           "green",
           "green",
           "green",
           "green",
           "green",
           "green",
           "green",
           "green",
           "green",
           "green",
           "green",
           "green",
           "green",
           "green",
           "green",
           "green",
           "green",
           "green",
           "green",
           "green",
           "green",
           "green",
           "green",
           "green",
           "green",
           "green",
           "green",
           "green",
           "green",
           "green",
           "green",
           "green",
           "green",
           "green",
           "green"
          ],
          "width": 1
         },
         "mode": "lines",
         "name": "edges",
         "text": [
          "Friend",
          "Friend",
          "Friend",
          "Friend",
          "Friend",
          "Friend",
          "Friend",
          "Friend",
          "Friend",
          "Friend",
          "Friend",
          "Friend",
          "Friend",
          "Friend",
          "Friend",
          "Friend",
          "Friend",
          "Friend",
          "Friend",
          "Friend",
          "Friend",
          "Friend",
          "Friend",
          "Friend",
          "Friend",
          "Friend",
          "Friend",
          "Friend",
          "Friend",
          "Friend",
          "Friend",
          "Friend",
          "Friend",
          "Friend",
          "Friend",
          "Friend",
          "Friend",
          "Friend",
          "Friend",
          "Friend",
          "Friend",
          "Friend",
          "Friend",
          "Friend",
          "Friend"
         ],
         "type": "scatter3d",
         "visible": true,
         "x": [
          0.3947781287461309,
          0.2857692028642816,
          null,
          0.3947781287461309,
          0.6297069451001862,
          null,
          0.3947781287461309,
          0.48564819384426583,
          null,
          0.3947781287461309,
          0.20189236263061586,
          null,
          0.3947781287461309,
          0.25600308464421273,
          null,
          0.3947781287461309,
          0.05732055306826546,
          null,
          0.3947781287461309,
          0.09121977865682251,
          null,
          0.3947781287461309,
          0.14241084548635155,
          null,
          0.2857692028642816,
          0.6297069451001862,
          null,
          0.2857692028642816,
          0.48564819384426583,
          null,
          0.2857692028642816,
          0.20189236263061586,
          null,
          0.2857692028642816,
          0.25600308464421273,
          null,
          0.2857692028642816,
          0.05732055306826546,
          null,
          0.2857692028642816,
          0.09121977865682251,
          null,
          0.2857692028642816,
          0.14241084548635155,
          null,
          0.6297069451001862,
          0.48564819384426583,
          null,
          0.48564819384426583,
          0.20189236263061586,
          null,
          0.20189236263061586,
          0.25600308464421273,
          null,
          0.20189236263061586,
          0.05732055306826546,
          null,
          0.25600308464421273,
          0.14241084548635155,
          null,
          0.25600308464421273,
          0.05732055306826546,
          null,
          0.05732055306826546,
          0.14241084548635155,
          null,
          0.05732055306826546,
          0.09121977865682251,
          null,
          0.09121977865682251,
          0.14241084548635155,
          null
         ],
         "y": [
          -0.32462410219477716,
          -0.38368789932664843,
          null,
          -0.32462410219477716,
          -0.5743560485019606,
          null,
          -0.32462410219477716,
          -0.42014335172929296,
          null,
          -0.32462410219477716,
          -0.39688160599368366,
          null,
          -0.32462410219477716,
          -0.5496619276632517,
          null,
          -0.32462410219477716,
          -0.27985073305646335,
          null,
          -0.32462410219477716,
          -0.014387308359434312,
          null,
          -0.32462410219477716,
          -0.24043411249753677,
          null,
          -0.38368789932664843,
          -0.5743560485019606,
          null,
          -0.38368789932664843,
          -0.42014335172929296,
          null,
          -0.38368789932664843,
          -0.39688160599368366,
          null,
          -0.38368789932664843,
          -0.5496619276632517,
          null,
          -0.38368789932664843,
          -0.27985073305646335,
          null,
          -0.38368789932664843,
          -0.014387308359434312,
          null,
          -0.38368789932664843,
          -0.24043411249753677,
          null,
          -0.5743560485019606,
          -0.42014335172929296,
          null,
          -0.42014335172929296,
          -0.39688160599368366,
          null,
          -0.39688160599368366,
          -0.5496619276632517,
          null,
          -0.39688160599368366,
          -0.27985073305646335,
          null,
          -0.5496619276632517,
          -0.24043411249753677,
          null,
          -0.5496619276632517,
          -0.27985073305646335,
          null,
          -0.27985073305646335,
          -0.24043411249753677,
          null,
          -0.27985073305646335,
          -0.014387308359434312,
          null,
          -0.014387308359434312,
          -0.24043411249753677,
          null
         ],
         "z": [
          -0.20858838921686743,
          -0.14117205106684816,
          null,
          -0.20858838921686743,
          -0.07172844238778366,
          null,
          -0.20858838921686743,
          0.15469083707225822,
          null,
          -0.20858838921686743,
          0.0548308267708468,
          null,
          -0.20858838921686743,
          -0.35227126398760894,
          null,
          -0.20858838921686743,
          -0.21053226914771767,
          null,
          -0.20858838921686743,
          -0.21567481581322545,
          null,
          -0.20858838921686743,
          -0.44324512143606937,
          null,
          -0.14117205106684816,
          -0.07172844238778366,
          null,
          -0.14117205106684816,
          0.15469083707225822,
          null,
          -0.14117205106684816,
          0.0548308267708468,
          null,
          -0.14117205106684816,
          -0.35227126398760894,
          null,
          -0.14117205106684816,
          -0.21053226914771767,
          null,
          -0.14117205106684816,
          -0.21567481581322545,
          null,
          -0.14117205106684816,
          -0.44324512143606937,
          null,
          -0.07172844238778366,
          0.15469083707225822,
          null,
          0.15469083707225822,
          0.0548308267708468,
          null,
          0.0548308267708468,
          -0.35227126398760894,
          null,
          0.0548308267708468,
          -0.21053226914771767,
          null,
          -0.35227126398760894,
          -0.44324512143606937,
          null,
          -0.35227126398760894,
          -0.21053226914771767,
          null,
          -0.21053226914771767,
          -0.44324512143606937,
          null,
          -0.21053226914771767,
          -0.21567481581322545,
          null,
          -0.21567481581322545,
          -0.44324512143606937,
          null
         ]
        },
        {
         "customdata": [
          [
           "a very evil book",
           "Unknown"
          ],
          [
           "a tricky fellow",
           "Captain Rick"
          ],
          [
           "superstar blind wizard",
           "Crew"
          ],
          [
           "mellow yellow fellow",
           "Crew"
          ],
          [
           "grumpy dwarf",
           "Crew"
          ],
          [
           "doppelganger?",
           "Doppelgangers"
          ],
          [
           "doppelganger?",
           "Doppelgangers"
          ],
          [
           null,
           "Doppelgangers"
          ],
          [
           "mercenary law enforcement",
           "Flaming Fist"
          ],
          [
           "don't mess with him",
           "Hunters"
          ],
          [
           "tinfoil conspiracy theorist",
           "Hunters"
          ],
          [
           "aide to faenorra",
           "Last Port"
          ],
          [
           "ambitiou king of the mayors",
           "Last Port"
          ],
          [
           "a wise man",
           "Last Port"
          ],
          [
           "adventuring bard",
           "Party"
          ],
          [
           "magic initiate",
           "Party"
          ],
          [
           "bored security",
           "Party"
          ],
          [
           "rapier killer",
           "Party"
          ],
          [
           "aspiring monster hunter",
           "Party"
          ],
          [
           "playboy investigaror",
           "Party"
          ],
          [
           "cleric on a mission",
           "Party"
          ],
          [
           "paladin with a dark side",
           "Party"
          ],
          [
           "princess with an attitude",
           "Party"
          ],
          [
           "man? in need of a cure",
           "Severed Eyes"
          ],
          [
           "barkeep and utter madman",
           "The Guild"
          ],
          [
           "prettiest hag you've ever seen",
           "The Guild"
          ],
          [
           "not a goblin",
           "The Guild"
          ],
          [
           "brain eaters",
           "The Mindflayers"
          ],
          [
           "such a cute \"dog\"",
           "The Mindflayers"
          ],
          [
           "nevermore",
           "The Raven Queen"
          ],
          [
           "it's hungry",
           "Unknown"
          ],
          [
           "long suffering butler",
           "The Vizier"
          ],
          [
           "he's in control",
           "The Vizier"
          ],
          [
           "leader of the cannibal elves",
           "The Vizier"
          ],
          [
           "Archdevil formerly trapped in a shielf. Former patron of Kivani",
           "Unknown"
          ]
         ],
         "hoverinfo": "text",
         "hovertemplate": "%{text}<br><i>%{customdata[0]}</i><br><b>Affiliation</b>: %{customdata[1]}<br>",
         "line": {
          "color": "rgb(125,125,125)",
          "width": 0.5
         },
         "marker": {
          "color": [
           "#F289B3",
           "#C5D714",
           "#442082",
           "#442082",
           "#442082",
           "#1C2E2B",
           "#1C2E2B",
           "#1C2E2B",
           "#7942BD",
           "#789B34",
           "#789B34",
           "#82B70E",
           "#82B70E",
           "#82B70E",
           "#29F885",
           "#29F885",
           "#29F885",
           "#29F885",
           "#29F885",
           "#29F885",
           "#29F885",
           "#29F885",
           "#29F885",
           "#A54DCA",
           "#74BDC0",
           "#74BDC0",
           "#74BDC0",
           "#EDBF88",
           "#EDBF88",
           "#10DBF7",
           "#F289B3",
           "#E7EEE7",
           "#E7EEE7",
           "#E7EEE7",
           "#F289B3"
          ],
          "size": [
           10,
           10,
           10,
           10,
           10,
           10,
           10,
           10,
           10,
           10,
           10,
           10,
           10,
           10,
           16,
           16,
           6,
           7,
           8,
           9,
           10,
           8,
           10,
           10,
           10,
           10,
           10,
           10,
           10,
           10,
           10,
           10,
           10,
           10,
           10
          ],
          "symbol": "circle"
         },
         "mode": "markers+text",
         "name": "all",
         "showlegend": true,
         "text": [
          "The Book",
          "Captain Rick",
          "Turi",
          "Kira",
          "Dwarf",
          "Fake Cissa",
          "Fake Kivani",
          "Night's King",
          "Captain Zodge",
          "Milosh",
          "Nika",
          "Talon",
          "Mayor Ulrik",
          "Randir",
          "Cissa",
          "Kivani",
          "Kuruntu",
          "Timothy",
          "Bellhop",
          "Bishop",
          "Kurozor",
          "Aedh",
          "Faenorra",
          "Severed Eye",
          "Ribbons",
          "Whiskey Lady",
          "The Goblin",
          "The Mindflayers",
          "Dog",
          "The Raven Queen",
          "The Thing at the Center",
          "Zed",
          "The Vizier",
          "Queen Tiala",
          "Gargauth"
         ],
         "type": "scatter3d",
         "visible": true,
         "x": [
          -0.25249496800164456,
          -0.8506515259461255,
          -0.8890015953278635,
          -0.43968756826500777,
          -0.7740292771016309,
          -0.5333483469534849,
          0.3543807018952424,
          0.7791845462871596,
          0.8385119363509631,
          -0.1438808820736038,
          -0.5878121334425651,
          -0.15015926706751143,
          -0.8110138625359957,
          -0.18010908508543988,
          0.3947781287461309,
          0.2857692028642816,
          0.6297069451001862,
          0.48564819384426583,
          0.20189236263061586,
          0.25600308464421273,
          0.05732055306826546,
          0.09121977865682251,
          0.14241084548635155,
          0.1653498798352838,
          -0.752453531572113,
          0.6944837670849199,
          0.6071578834252046,
          0.6980112602142726,
          -0.4831858840386816,
          0.27474319066538677,
          -0.9229790872810885,
          -0.25236014820190616,
          0.33133523516482233,
          0.7816772573490852,
          -0.04641759041880832
         ],
         "y": [
          0.7397053548084158,
          0.17790447299252143,
          0.608830837466992,
          -0.5024732010736523,
          0.7892669757114982,
          0.29461320539719615,
          0.7424073807963488,
          0.4348461270849636,
          -0.1871822252667451,
          -0.7187070714643722,
          -0.5108000280054591,
          0.5610083566145574,
          0.07276972962642717,
          1,
          -0.32462410219477716,
          -0.38368789932664843,
          -0.5743560485019606,
          -0.42014335172929296,
          -0.39688160599368366,
          -0.5496619276632517,
          -0.27985073305646335,
          -0.014387308359434312,
          -0.24043411249753677,
          0.07782473276158099,
          -0.35233476790722784,
          -0.18913706384036175,
          0.8590158347519631,
          -0.36071105698014394,
          -0.7455272603241208,
          0.8508074269269337,
          -0.3660286831835883,
          0.9380644405652813,
          -0.6156862391214036,
          0.4725222343106823,
          -0.8869724233252385
         ],
         "z": [
          0.6779708257501523,
          -0.4567277042743426,
          0.22328600404929702,
          0.7549563994078179,
          -0.21111393856423558,
          0.8418692743332536,
          0.7129611459809485,
          0.442680886123182,
          0.2010279441070957,
          -0.45648613328372034,
          -0.5957439043750671,
          -0.7482834775084334,
          0.5496881506088123,
          0.24436272723238878,
          -0.20858838921686743,
          -0.14117205106684816,
          -0.07172844238778366,
          0.15469083707225822,
          0.0548308267708468,
          -0.35227126398760894,
          -0.21053226914771767,
          -0.21567481581322545,
          -0.44324512143606937,
          -0.8897121497370037,
          0.4235282585384568,
          -0.6373941110072168,
          -0.113526203315146,
          0.6074826995775622,
          0.06462879887999733,
          -0.47232388108948975,
          -0.30221479558274555,
          -0.3714480889545441,
          0.7581850445570854,
          -0.0740827175927596,
          0.26011963535167093
         ]
        }
       ],
       "layout": {
        "height": 600,
        "plot_bgcolor": "#696969",
        "scene": {
         "xaxis": {
          "showbackground": false,
          "showgrid": false,
          "showline": false,
          "showspikes": false,
          "showticklabels": false,
          "title": {
           "text": ""
          },
          "zeroline": false
         },
         "yaxis": {
          "showbackground": false,
          "showgrid": false,
          "showline": false,
          "showspikes": false,
          "showticklabels": false,
          "title": {
           "text": ""
          },
          "zeroline": false
         },
         "zaxis": {
          "showbackground": false,
          "showgrid": false,
          "showline": false,
          "showspikes": false,
          "showticklabels": false,
          "title": {
           "text": ""
          },
          "zeroline": false
         }
        },
        "showlegend": true,
        "template": {
         "data": {
          "bar": [
           {
            "error_x": {
             "color": "#2a3f5f"
            },
            "error_y": {
             "color": "#2a3f5f"
            },
            "marker": {
             "line": {
              "color": "#E5ECF6",
              "width": 0.5
             }
            },
            "type": "bar"
           }
          ],
          "barpolar": [
           {
            "marker": {
             "line": {
              "color": "#E5ECF6",
              "width": 0.5
             }
            },
            "type": "barpolar"
           }
          ],
          "carpet": [
           {
            "aaxis": {
             "endlinecolor": "#2a3f5f",
             "gridcolor": "white",
             "linecolor": "white",
             "minorgridcolor": "white",
             "startlinecolor": "#2a3f5f"
            },
            "baxis": {
             "endlinecolor": "#2a3f5f",
             "gridcolor": "white",
             "linecolor": "white",
             "minorgridcolor": "white",
             "startlinecolor": "#2a3f5f"
            },
            "type": "carpet"
           }
          ],
          "choropleth": [
           {
            "colorbar": {
             "outlinewidth": 0,
             "ticks": ""
            },
            "type": "choropleth"
           }
          ],
          "contour": [
           {
            "colorbar": {
             "outlinewidth": 0,
             "ticks": ""
            },
            "colorscale": [
             [
              0,
              "#0d0887"
             ],
             [
              0.1111111111111111,
              "#46039f"
             ],
             [
              0.2222222222222222,
              "#7201a8"
             ],
             [
              0.3333333333333333,
              "#9c179e"
             ],
             [
              0.4444444444444444,
              "#bd3786"
             ],
             [
              0.5555555555555556,
              "#d8576b"
             ],
             [
              0.6666666666666666,
              "#ed7953"
             ],
             [
              0.7777777777777778,
              "#fb9f3a"
             ],
             [
              0.8888888888888888,
              "#fdca26"
             ],
             [
              1,
              "#f0f921"
             ]
            ],
            "type": "contour"
           }
          ],
          "contourcarpet": [
           {
            "colorbar": {
             "outlinewidth": 0,
             "ticks": ""
            },
            "type": "contourcarpet"
           }
          ],
          "heatmap": [
           {
            "colorbar": {
             "outlinewidth": 0,
             "ticks": ""
            },
            "colorscale": [
             [
              0,
              "#0d0887"
             ],
             [
              0.1111111111111111,
              "#46039f"
             ],
             [
              0.2222222222222222,
              "#7201a8"
             ],
             [
              0.3333333333333333,
              "#9c179e"
             ],
             [
              0.4444444444444444,
              "#bd3786"
             ],
             [
              0.5555555555555556,
              "#d8576b"
             ],
             [
              0.6666666666666666,
              "#ed7953"
             ],
             [
              0.7777777777777778,
              "#fb9f3a"
             ],
             [
              0.8888888888888888,
              "#fdca26"
             ],
             [
              1,
              "#f0f921"
             ]
            ],
            "type": "heatmap"
           }
          ],
          "heatmapgl": [
           {
            "colorbar": {
             "outlinewidth": 0,
             "ticks": ""
            },
            "colorscale": [
             [
              0,
              "#0d0887"
             ],
             [
              0.1111111111111111,
              "#46039f"
             ],
             [
              0.2222222222222222,
              "#7201a8"
             ],
             [
              0.3333333333333333,
              "#9c179e"
             ],
             [
              0.4444444444444444,
              "#bd3786"
             ],
             [
              0.5555555555555556,
              "#d8576b"
             ],
             [
              0.6666666666666666,
              "#ed7953"
             ],
             [
              0.7777777777777778,
              "#fb9f3a"
             ],
             [
              0.8888888888888888,
              "#fdca26"
             ],
             [
              1,
              "#f0f921"
             ]
            ],
            "type": "heatmapgl"
           }
          ],
          "histogram": [
           {
            "marker": {
             "colorbar": {
              "outlinewidth": 0,
              "ticks": ""
             }
            },
            "type": "histogram"
           }
          ],
          "histogram2d": [
           {
            "colorbar": {
             "outlinewidth": 0,
             "ticks": ""
            },
            "colorscale": [
             [
              0,
              "#0d0887"
             ],
             [
              0.1111111111111111,
              "#46039f"
             ],
             [
              0.2222222222222222,
              "#7201a8"
             ],
             [
              0.3333333333333333,
              "#9c179e"
             ],
             [
              0.4444444444444444,
              "#bd3786"
             ],
             [
              0.5555555555555556,
              "#d8576b"
             ],
             [
              0.6666666666666666,
              "#ed7953"
             ],
             [
              0.7777777777777778,
              "#fb9f3a"
             ],
             [
              0.8888888888888888,
              "#fdca26"
             ],
             [
              1,
              "#f0f921"
             ]
            ],
            "type": "histogram2d"
           }
          ],
          "histogram2dcontour": [
           {
            "colorbar": {
             "outlinewidth": 0,
             "ticks": ""
            },
            "colorscale": [
             [
              0,
              "#0d0887"
             ],
             [
              0.1111111111111111,
              "#46039f"
             ],
             [
              0.2222222222222222,
              "#7201a8"
             ],
             [
              0.3333333333333333,
              "#9c179e"
             ],
             [
              0.4444444444444444,
              "#bd3786"
             ],
             [
              0.5555555555555556,
              "#d8576b"
             ],
             [
              0.6666666666666666,
              "#ed7953"
             ],
             [
              0.7777777777777778,
              "#fb9f3a"
             ],
             [
              0.8888888888888888,
              "#fdca26"
             ],
             [
              1,
              "#f0f921"
             ]
            ],
            "type": "histogram2dcontour"
           }
          ],
          "mesh3d": [
           {
            "colorbar": {
             "outlinewidth": 0,
             "ticks": ""
            },
            "type": "mesh3d"
           }
          ],
          "parcoords": [
           {
            "line": {
             "colorbar": {
              "outlinewidth": 0,
              "ticks": ""
             }
            },
            "type": "parcoords"
           }
          ],
          "pie": [
           {
            "automargin": true,
            "type": "pie"
           }
          ],
          "scatter": [
           {
            "marker": {
             "colorbar": {
              "outlinewidth": 0,
              "ticks": ""
             }
            },
            "type": "scatter"
           }
          ],
          "scatter3d": [
           {
            "line": {
             "colorbar": {
              "outlinewidth": 0,
              "ticks": ""
             }
            },
            "marker": {
             "colorbar": {
              "outlinewidth": 0,
              "ticks": ""
             }
            },
            "type": "scatter3d"
           }
          ],
          "scattercarpet": [
           {
            "marker": {
             "colorbar": {
              "outlinewidth": 0,
              "ticks": ""
             }
            },
            "type": "scattercarpet"
           }
          ],
          "scattergeo": [
           {
            "marker": {
             "colorbar": {
              "outlinewidth": 0,
              "ticks": ""
             }
            },
            "type": "scattergeo"
           }
          ],
          "scattergl": [
           {
            "marker": {
             "colorbar": {
              "outlinewidth": 0,
              "ticks": ""
             }
            },
            "type": "scattergl"
           }
          ],
          "scattermapbox": [
           {
            "marker": {
             "colorbar": {
              "outlinewidth": 0,
              "ticks": ""
             }
            },
            "type": "scattermapbox"
           }
          ],
          "scatterpolar": [
           {
            "marker": {
             "colorbar": {
              "outlinewidth": 0,
              "ticks": ""
             }
            },
            "type": "scatterpolar"
           }
          ],
          "scatterpolargl": [
           {
            "marker": {
             "colorbar": {
              "outlinewidth": 0,
              "ticks": ""
             }
            },
            "type": "scatterpolargl"
           }
          ],
          "scatterternary": [
           {
            "marker": {
             "colorbar": {
              "outlinewidth": 0,
              "ticks": ""
             }
            },
            "type": "scatterternary"
           }
          ],
          "surface": [
           {
            "colorbar": {
             "outlinewidth": 0,
             "ticks": ""
            },
            "colorscale": [
             [
              0,
              "#0d0887"
             ],
             [
              0.1111111111111111,
              "#46039f"
             ],
             [
              0.2222222222222222,
              "#7201a8"
             ],
             [
              0.3333333333333333,
              "#9c179e"
             ],
             [
              0.4444444444444444,
              "#bd3786"
             ],
             [
              0.5555555555555556,
              "#d8576b"
             ],
             [
              0.6666666666666666,
              "#ed7953"
             ],
             [
              0.7777777777777778,
              "#fb9f3a"
             ],
             [
              0.8888888888888888,
              "#fdca26"
             ],
             [
              1,
              "#f0f921"
             ]
            ],
            "type": "surface"
           }
          ],
          "table": [
           {
            "cells": {
             "fill": {
              "color": "#EBF0F8"
             },
             "line": {
              "color": "white"
             }
            },
            "header": {
             "fill": {
              "color": "#C8D4E3"
             },
             "line": {
              "color": "white"
             }
            },
            "type": "table"
           }
          ]
         },
         "layout": {
          "annotationdefaults": {
           "arrowcolor": "#2a3f5f",
           "arrowhead": 0,
           "arrowwidth": 1
          },
          "autotypenumbers": "strict",
          "coloraxis": {
           "colorbar": {
            "outlinewidth": 0,
            "ticks": ""
           }
          },
          "colorscale": {
           "diverging": [
            [
             0,
             "#8e0152"
            ],
            [
             0.1,
             "#c51b7d"
            ],
            [
             0.2,
             "#de77ae"
            ],
            [
             0.3,
             "#f1b6da"
            ],
            [
             0.4,
             "#fde0ef"
            ],
            [
             0.5,
             "#f7f7f7"
            ],
            [
             0.6,
             "#e6f5d0"
            ],
            [
             0.7,
             "#b8e186"
            ],
            [
             0.8,
             "#7fbc41"
            ],
            [
             0.9,
             "#4d9221"
            ],
            [
             1,
             "#276419"
            ]
           ],
           "sequential": [
            [
             0,
             "#0d0887"
            ],
            [
             0.1111111111111111,
             "#46039f"
            ],
            [
             0.2222222222222222,
             "#7201a8"
            ],
            [
             0.3333333333333333,
             "#9c179e"
            ],
            [
             0.4444444444444444,
             "#bd3786"
            ],
            [
             0.5555555555555556,
             "#d8576b"
            ],
            [
             0.6666666666666666,
             "#ed7953"
            ],
            [
             0.7777777777777778,
             "#fb9f3a"
            ],
            [
             0.8888888888888888,
             "#fdca26"
            ],
            [
             1,
             "#f0f921"
            ]
           ],
           "sequentialminus": [
            [
             0,
             "#0d0887"
            ],
            [
             0.1111111111111111,
             "#46039f"
            ],
            [
             0.2222222222222222,
             "#7201a8"
            ],
            [
             0.3333333333333333,
             "#9c179e"
            ],
            [
             0.4444444444444444,
             "#bd3786"
            ],
            [
             0.5555555555555556,
             "#d8576b"
            ],
            [
             0.6666666666666666,
             "#ed7953"
            ],
            [
             0.7777777777777778,
             "#fb9f3a"
            ],
            [
             0.8888888888888888,
             "#fdca26"
            ],
            [
             1,
             "#f0f921"
            ]
           ]
          },
          "colorway": [
           "#636efa",
           "#EF553B",
           "#00cc96",
           "#ab63fa",
           "#FFA15A",
           "#19d3f3",
           "#FF6692",
           "#B6E880",
           "#FF97FF",
           "#FECB52"
          ],
          "font": {
           "color": "#2a3f5f"
          },
          "geo": {
           "bgcolor": "white",
           "lakecolor": "white",
           "landcolor": "#E5ECF6",
           "showlakes": true,
           "showland": true,
           "subunitcolor": "white"
          },
          "hoverlabel": {
           "align": "left"
          },
          "hovermode": "closest",
          "mapbox": {
           "style": "light"
          },
          "paper_bgcolor": "white",
          "plot_bgcolor": "#E5ECF6",
          "polar": {
           "angularaxis": {
            "gridcolor": "white",
            "linecolor": "white",
            "ticks": ""
           },
           "bgcolor": "#E5ECF6",
           "radialaxis": {
            "gridcolor": "white",
            "linecolor": "white",
            "ticks": ""
           }
          },
          "scene": {
           "xaxis": {
            "backgroundcolor": "#E5ECF6",
            "gridcolor": "white",
            "gridwidth": 2,
            "linecolor": "white",
            "showbackground": true,
            "ticks": "",
            "zerolinecolor": "white"
           },
           "yaxis": {
            "backgroundcolor": "#E5ECF6",
            "gridcolor": "white",
            "gridwidth": 2,
            "linecolor": "white",
            "showbackground": true,
            "ticks": "",
            "zerolinecolor": "white"
           },
           "zaxis": {
            "backgroundcolor": "#E5ECF6",
            "gridcolor": "white",
            "gridwidth": 2,
            "linecolor": "white",
            "showbackground": true,
            "ticks": "",
            "zerolinecolor": "white"
           }
          },
          "shapedefaults": {
           "line": {
            "color": "#2a3f5f"
           }
          },
          "ternary": {
           "aaxis": {
            "gridcolor": "white",
            "linecolor": "white",
            "ticks": ""
           },
           "baxis": {
            "gridcolor": "white",
            "linecolor": "white",
            "ticks": ""
           },
           "bgcolor": "#E5ECF6",
           "caxis": {
            "gridcolor": "white",
            "linecolor": "white",
            "ticks": ""
           }
          },
          "title": {
           "x": 0.05
          },
          "xaxis": {
           "automargin": true,
           "gridcolor": "white",
           "linecolor": "white",
           "ticks": "",
           "title": {
            "standoff": 15
           },
           "zerolinecolor": "white",
           "zerolinewidth": 2
          },
          "yaxis": {
           "automargin": true,
           "gridcolor": "white",
           "linecolor": "white",
           "ticks": "",
           "title": {
            "standoff": 15
           },
           "zerolinecolor": "white",
           "zerolinewidth": 2
          }
         }
        },
        "title": {
         "text": "Campaign Cast Network"
        },
        "width": 800
       }
      }
     },
     "metadata": {}
    }
   ],
   "source": [
    "axis = dict(showbackground = False, \n",
    "            showline = False, \n",
    "            zeroline = False, \n",
    "            showgrid = False, \n",
    "            showticklabels = False, \n",
    "            showspikes = False,\n",
    "            title = '')\n",
    "\n",
    "layout = go.Layout(\n",
    "    title = \"Campaign Cast Network\",\n",
    "    plot_bgcolor='#696969',\n",
    "    width = 800,\n",
    "    height = 600,\n",
    "    showlegend = True,\n",
    "    scene = dict(\n",
    "        xaxis = dict(axis),\n",
    "        yaxis = dict(axis),\n",
    "        zaxis = dict(axis)))\n",
    "\n",
    "fig = go.Figure(data = [edge_trace, node_trace], \n",
    "                layout = layout)\n",
    "\n",
    "fig.write_html(\"output/campaign-cast.html\")                \n",
    "\n",
    "iplot(fig, filename = 'campaign')\n"
   ]
  },
  {
   "cell_type": "code",
   "execution_count": null,
   "metadata": {},
   "outputs": [],
   "source": []
  }
 ]
}