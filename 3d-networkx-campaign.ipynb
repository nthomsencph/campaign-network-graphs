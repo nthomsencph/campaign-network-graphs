{
 "metadata": {
  "language_info": {
   "codemirror_mode": {
    "name": "ipython",
    "version": 3
   },
   "file_extension": ".py",
   "mimetype": "text/x-python",
   "name": "python",
   "nbconvert_exporter": "python",
   "pygments_lexer": "ipython3",
   "version": "3.8.3"
  },
  "orig_nbformat": 2,
  "kernelspec": {
   "name": "python383jvsc74a57bd0b3ba2566441a7c06988d0923437866b63cedc61552a5af99d1f4fb67d367b25f",
   "display_name": "Python 3.8.3 64-bit (conda)"
  }
 },
 "nbformat": 4,
 "nbformat_minor": 2,
 "cells": [
  {
   "cell_type": "code",
   "execution_count": 18,
   "metadata": {},
   "outputs": [],
   "source": [
    "# imports\n",
    "from plotly.offline import iplot\n",
    "import plotly.graph_objs as go\n",
    "import pandas as pd\n",
    "import numpy as np\n",
    "import random\n",
    "import networkx as nx"
   ]
  },
  {
   "source": [
    "### import from google sheet"
   ],
   "cell_type": "markdown",
   "metadata": {}
  },
  {
   "cell_type": "code",
   "execution_count": 19,
   "metadata": {},
   "outputs": [],
   "source": [
    "def import_data(sheet_name, sheet_id = \"1gQ69WDBNpTIegl1pKKwLvN2KJfTRnird6_2P41_qwfo\"):\n",
    "    return pd.read_csv(f\"https://docs.google.com/spreadsheets/d/{sheet_id}/export?format=csv&gid={sheet_name}\")"
   ]
  },
  {
   "cell_type": "code",
   "execution_count": 20,
   "metadata": {},
   "outputs": [
    {
     "output_type": "execute_result",
     "data": {
      "text/plain": [
       "((35, 4), (45, 3))"
      ]
     },
     "metadata": {},
     "execution_count": 20
    }
   ],
   "source": [
    "nodes = import_data(\"1157642109\")\n",
    "links = import_data(\"1435699897\")\n",
    "nodes.shape, links.shape"
   ]
  },
  {
   "source": [
    "### encoded faction/group categories as integers"
   ],
   "cell_type": "markdown",
   "metadata": {}
  },
  {
   "cell_type": "code",
   "execution_count": 21,
   "metadata": {},
   "outputs": [
    {
     "output_type": "execute_result",
     "data": {
      "text/plain": [
       "(35, 5)"
      ]
     },
     "metadata": {},
     "execution_count": 21
    }
   ],
   "source": [
    "nodes.group = pd.Categorical(nodes.group)\n",
    "nodes['group_id'] = nodes.group.cat.codes\n",
    "nodes.shape"
   ]
  },
  {
   "source": [
    "### Adding node sizes\n",
    "Size of each node is based on mentions of said node character in the 'links' table. Uncomment code below to normalize node size"
   ],
   "cell_type": "markdown",
   "metadata": {}
  },
  {
   "cell_type": "code",
   "execution_count": 22,
   "metadata": {},
   "outputs": [
    {
     "output_type": "execute_result",
     "data": {
      "text/plain": [
       "(35, 6)"
      ]
     },
     "metadata": {},
     "execution_count": 22
    }
   ],
   "source": [
    "sizes = links[\"Target\"] \\\n",
    "        .value_counts() \\\n",
    "        .sort_index() \\\n",
    "        .add(links[\"Source\"] \\\n",
    "             .value_counts() \\\n",
    "             .sort_index(), \n",
    "             fill_value = 1)\n",
    "\n",
    "nodes = nodes.merge(pd.DataFrame({\"Source\" : sizes.index,\n",
    "                                  \"Size\" : sizes.values}), \n",
    "                    left_on = \"name\",\n",
    "                    right_on = \"Source\",\n",
    "                    how = \"left\") \\\n",
    "                    .drop(\"Source\", axis = 1)\n",
    "                                                      \n",
    "\n",
    "nodes.Size = nodes.Size.fillna(nodes.Size.mean())\n",
    "\n",
    "# a, b = 1, 2\n",
    "# x, y = min(nodes.Size), max(nodes.Size)\n",
    "# nodes.Size = (nodes.Size - x) / (y - x) * (b - a) + a\n",
    "\n",
    "nodes.shape"
   ]
  },
  {
   "source": [
    "### set random (but consistent) group color\n",
    "We can put specific desired colors later on"
   ],
   "cell_type": "markdown",
   "metadata": {}
  },
  {
   "cell_type": "code",
   "execution_count": 23,
   "metadata": {},
   "outputs": [],
   "source": [
    "def random_color(i):\n",
    "    random.seed(i)\n",
    "    r = lambda: random.randint(0,255)\n",
    "    return '#%02X%02X%02X' % ( r(), r(), r() )"
   ]
  },
  {
   "cell_type": "code",
   "execution_count": 24,
   "metadata": {},
   "outputs": [],
   "source": [
    "nodes[\"group_color\"] = nodes.group_id.apply(lambda x: random_color(x))"
   ]
  },
  {
   "source": [
    "### create graph object and add nodes"
   ],
   "cell_type": "markdown",
   "metadata": {}
  },
  {
   "cell_type": "code",
   "execution_count": 25,
   "metadata": {},
   "outputs": [],
   "source": [
    "dnd = nx.Graph() # define our base graph object"
   ]
  },
  {
   "cell_type": "code",
   "execution_count": 26,
   "metadata": {},
   "outputs": [
    {
     "output_type": "execute_result",
     "data": {
      "text/plain": [
       "(35, 35)"
      ]
     },
     "metadata": {},
     "execution_count": 26
    }
   ],
   "source": [
    "for idx, char in nodes.iterrows():\n",
    "        dnd.add_node(char.name,\n",
    "                     size = char.Size,\n",
    "                     name = char.name,\n",
    "                     color = random_color(char.group_id),\n",
    "                     description = char.description,\n",
    "                     weight = 1,\n",
    "                     group = char.group) \n",
    "\n",
    "len(dnd.nodes()), len(nodes) # sanity check"
   ]
  },
  {
   "source": [
    "### Create node lookup object to easily get index from name\n",
    "And to avoid slow dataframe query functions"
   ],
   "cell_type": "markdown",
   "metadata": {}
  },
  {
   "cell_type": "code",
   "execution_count": 27,
   "metadata": {},
   "outputs": [],
   "source": [
    "node_lookup = dict(zip(nodes.name, nodes.index))"
   ]
  },
  {
   "source": [
    "### define relation color group"
   ],
   "cell_type": "markdown",
   "metadata": {}
  },
  {
   "cell_type": "code",
   "execution_count": 28,
   "metadata": {},
   "outputs": [],
   "source": [
    "rel_color_lookup = {\"Friend\" : \"green\", \n",
    "                    \"Foe\" : 'red', \n",
    "                    \"Unknown\" : 'blue'}\n",
    "                    \n",
    "links[\"rel_color\"] = links.Relation.apply(lambda x: rel_color_lookup[x])"
   ]
  },
  {
   "source": [
    "### Add edges (links) to graph object\n",
    "Note that a relationship like kivani <-> cissa is actually the same as cissa <-> kivani and will get treated as just one relation.\n",
    "This is because we are doing undirected nodes"
   ],
   "cell_type": "markdown",
   "metadata": {}
  },
  {
   "cell_type": "code",
   "execution_count": 29,
   "metadata": {},
   "outputs": [],
   "source": [
    "# for each co-appearance between two characters, add an edge\n",
    "for idx, link in links.iterrows():\n",
    "    dnd.add_edge(node_lookup[link.Source], \n",
    "                 node_lookup[link.Target], \n",
    "                 weight = 1, \n",
    "                 color = link.rel_color)"
   ]
  },
  {
   "cell_type": "code",
   "execution_count": 30,
   "metadata": {},
   "outputs": [
    {
     "output_type": "execute_result",
     "data": {
      "text/plain": [
       "(24, (45, 4))"
      ]
     },
     "metadata": {},
     "execution_count": 30
    }
   ],
   "source": [
    "dnd.number_of_edges(), links.shape # kivani <-> cissa == cissa <-> kivani, so shape is different"
   ]
  },
  {
   "cell_type": "code",
   "execution_count": 31,
   "metadata": {},
   "outputs": [
    {
     "output_type": "stream",
     "name": "stdout",
     "text": [
      "Nodes of graph:  35\nEdges of graps:  24\n"
     ]
    }
   ],
   "source": [
    "print(\"Nodes of graph: \", len(dnd.nodes()))\n",
    "print(\"Edges of graps: \", len(dnd.edges()))"
   ]
  },
  {
   "cell_type": "code",
   "execution_count": 36,
   "metadata": {},
   "outputs": [
    {
     "output_type": "execute_result",
     "data": {
      "text/plain": [
       "      name  group              description  session_introduced  group_id  \\\n",
       "0    Cissa  Party         adventuring bard                 1.0         8   \n",
       "1   Kivani  Party           magic initiate                 1.0         8   \n",
       "2  Kuruntu  Party           bored security                 1.0         8   \n",
       "3  Timothy  Party            rapier killer                 1.0         8   \n",
       "4  Bellhop  Party  aspiring monster hunter                 4.0         8   \n",
       "\n",
       "   Size group_color  \n",
       "0  16.0     #74BDC0  \n",
       "1  16.0     #74BDC0  \n",
       "2   6.0     #74BDC0  \n",
       "3   7.0     #74BDC0  \n",
       "4   8.0     #74BDC0  "
      ],
      "text/html": "<div>\n<style scoped>\n    .dataframe tbody tr th:only-of-type {\n        vertical-align: middle;\n    }\n\n    .dataframe tbody tr th {\n        vertical-align: top;\n    }\n\n    .dataframe thead th {\n        text-align: right;\n    }\n</style>\n<table border=\"1\" class=\"dataframe\">\n  <thead>\n    <tr style=\"text-align: right;\">\n      <th></th>\n      <th>name</th>\n      <th>group</th>\n      <th>description</th>\n      <th>session_introduced</th>\n      <th>group_id</th>\n      <th>Size</th>\n      <th>group_color</th>\n    </tr>\n  </thead>\n  <tbody>\n    <tr>\n      <th>0</th>\n      <td>Cissa</td>\n      <td>Party</td>\n      <td>adventuring bard</td>\n      <td>1.0</td>\n      <td>8</td>\n      <td>16.0</td>\n      <td>#74BDC0</td>\n    </tr>\n    <tr>\n      <th>1</th>\n      <td>Kivani</td>\n      <td>Party</td>\n      <td>magic initiate</td>\n      <td>1.0</td>\n      <td>8</td>\n      <td>16.0</td>\n      <td>#74BDC0</td>\n    </tr>\n    <tr>\n      <th>2</th>\n      <td>Kuruntu</td>\n      <td>Party</td>\n      <td>bored security</td>\n      <td>1.0</td>\n      <td>8</td>\n      <td>6.0</td>\n      <td>#74BDC0</td>\n    </tr>\n    <tr>\n      <th>3</th>\n      <td>Timothy</td>\n      <td>Party</td>\n      <td>rapier killer</td>\n      <td>1.0</td>\n      <td>8</td>\n      <td>7.0</td>\n      <td>#74BDC0</td>\n    </tr>\n    <tr>\n      <th>4</th>\n      <td>Bellhop</td>\n      <td>Party</td>\n      <td>aspiring monster hunter</td>\n      <td>4.0</td>\n      <td>8</td>\n      <td>8.0</td>\n      <td>#74BDC0</td>\n    </tr>\n  </tbody>\n</table>\n</div>"
     },
     "metadata": {},
     "execution_count": 36
    }
   ],
   "source": [
    "nodes.head()"
   ]
  },
  {
   "cell_type": "code",
   "execution_count": 33,
   "metadata": {},
   "outputs": [],
   "source": [
    "def create_node_trace(node_cluster, name):\n",
    "    return go.Scatter3d(x = node_cluster.Xn, \n",
    "                        y = node_cluster.Yn, \n",
    "                        z = node_cluster.Zn, \n",
    "                        mode = 'markers + text', \n",
    "                        name = name, \n",
    "                        marker = dict(symbol = 'circle', \n",
    "                                    size = node_cluster.Size, \n",
    "                                    color = node_cluster.group_color),\n",
    "                        line = dict(color='rgb(125,125,125)', width=0.5),\n",
    "                        text = node_cluster.name, \n",
    "                        visible = True,\n",
    "                        hoverinfo = 'text',\n",
    "                        showlegend = True,\n",
    "                        customdata = np.stack([node_cluster.description, \n",
    "                                               node_cluster.group], \n",
    "                                               axis = 1),\n",
    "                        hovertemplate = ('%{text}'+\\\n",
    "                                        '<br><i>%{customdata[0]}</i><br>'+\\\n",
    "                                        '<b>Affiliation</b>: %{customdata[1]}<br>'))\n",
    "\n",
    "def create_edge_trace(edge_x, edge_y, edge_z, edge_cluster, name):\n",
    "    return go.Scatter3d(x = edge_x, \n",
    "                        y = edge_y, \n",
    "                        z = edge_z,\n",
    "                        name = name,\n",
    "                        text = edge_cluster.Relation,\n",
    "                        line = dict(width=1,\n",
    "                                    color=links.rel_color),\n",
    "                        visible = True,\n",
    "                        hoverinfo= 'text',\n",
    "                        mode='lines')\n"
   ]
  },
  {
   "cell_type": "code",
   "execution_count": null,
   "metadata": {},
   "outputs": [],
   "source": [
    "def get_node_coordinates(graph_obj, layout):\n",
    "    \n",
    "    Xn, Yn, Zn = [], [], []\n",
    "    for k in range(graph_obj.number_of_nodes()): \n",
    "        Xn += [ layout[k][0] ] \n",
    "        Yn += [ layout[k][1] ]\n",
    "        Zn += [ layout[k][2] ]\n",
    "\n",
    "    return Xn, Yn, Zn\n",
    "\n",
    "def get_link_coordinates(graph_obj, nodes_df):\n",
    "    \n",
    "\n",
    "    edge_x, edge_y, edge_z = [], [], []\n",
    "    for edge in graph_obj.edges():\n",
    "        x0, y0, z0 = nodes_df.loc[edge[0]][[\"Xn\", \"Yn\", \"Zn\"]].values\n",
    "        x1, y1, z1 = nodes_df.loc[edge[1]][[\"Xn\", \"Yn\", \"Zn\"]].values\n",
    "        edge_x.append(x0)\n",
    "        edge_x.append(x1)\n",
    "        edge_x.append(None) # I'll be perfectly honest. I have no idea why we append these None elements. But it works!\n",
    "        edge_y.append(y0)\n",
    "        edge_y.append(y1)\n",
    "        edge_y.append(None)\n",
    "        edge_z.append(z0)\n",
    "        edge_z.append(z1)\n",
    "        edge_z.append(None)\n",
    "\n",
    "    return edge_x, edge_y, edge_z"
   ]
  },
  {
   "source": [
    "### Fit graph objects to chosen layout\n",
    "We can try different layouts with different parameters"
   ],
   "cell_type": "markdown",
   "metadata": {}
  },
  {
   "cell_type": "code",
   "execution_count": 34,
   "metadata": {},
   "outputs": [],
   "source": [
    "pos_ = nx.spring_layout(dnd, dim = 3, k = 0.8, iterations = 50) # get coordinates for nodes in spring layoyt \n",
    "# print(pos_)"
   ]
  },
  {
   "source": [
    "### Placed nodes and add traces\n",
    "(traces are effectively plots that are plotted on top of each other)"
   ],
   "cell_type": "markdown",
   "metadata": {}
  },
  {
   "cell_type": "code",
   "execution_count": 35,
   "metadata": {},
   "outputs": [
    {
     "output_type": "display_data",
     "data": {
      "application/vnd.plotly.v1+json": {
       "config": {
        "linkText": "Export to plot.ly",
        "plotlyServerURL": "https://plot.ly",
        "showLink": false
       },
       "data": [
        {
         "hoverinfo": "text",
         "line": {
          "color": [
           "green",
           "green",
           "green",
           "green",
           "green",
           "green",
           "green",
           "green",
           "green",
           "green",
           "green",
           "green",
           "green",
           "green",
           "green",
           "green",
           "green",
           "green",
           "green",
           "green",
           "green",
           "green",
           "green",
           "green",
           "green",
           "green",
           "green",
           "green",
           "green",
           "green",
           "green",
           "green",
           "green",
           "green",
           "green",
           "green",
           "green",
           "green",
           "green",
           "green",
           "green",
           "green",
           "green",
           "green",
           "green"
          ],
          "width": 1
         },
         "mode": "lines",
         "name": "edges",
         "text": [
          "Friend",
          "Friend",
          "Friend",
          "Friend",
          "Friend",
          "Friend",
          "Friend",
          "Friend",
          "Friend",
          "Friend",
          "Friend",
          "Friend",
          "Friend",
          "Friend",
          "Friend",
          "Friend",
          "Friend",
          "Friend",
          "Friend",
          "Friend",
          "Friend",
          "Friend",
          "Friend",
          "Friend",
          "Friend",
          "Friend",
          "Friend",
          "Friend",
          "Friend",
          "Friend",
          "Friend",
          "Friend",
          "Friend",
          "Friend",
          "Friend",
          "Friend",
          "Friend",
          "Friend",
          "Friend",
          "Friend",
          "Friend",
          "Friend",
          "Friend",
          "Friend",
          "Friend"
         ],
         "type": "scatter3d",
         "visible": true,
         "x": [
          0.5207544666509897,
          0.4036076060229037,
          null,
          0.5207544666509897,
          0.3478933209941665,
          null,
          0.5207544666509897,
          0.6671035768568769,
          null,
          0.5207544666509897,
          0.5707516040308295,
          null,
          0.5207544666509897,
          0.3927555174482186,
          null,
          0.5207544666509897,
          0.5688461465191663,
          null,
          0.5207544666509897,
          0.6778856299561193,
          null,
          0.5207544666509897,
          0.30013580806282236,
          null,
          0.4036076060229037,
          0.3478933209941665,
          null,
          0.4036076060229037,
          0.6671035768568769,
          null,
          0.4036076060229037,
          0.5707516040308295,
          null,
          0.4036076060229037,
          0.3927555174482186,
          null,
          0.4036076060229037,
          0.5688461465191663,
          null,
          0.4036076060229037,
          0.6778856299561193,
          null,
          0.4036076060229037,
          0.30013580806282236,
          null,
          0.3478933209941665,
          0.6671035768568769,
          null,
          0.6671035768568769,
          0.5707516040308295,
          null,
          0.5707516040308295,
          0.3927555174482186,
          null,
          0.5707516040308295,
          0.5688461465191663,
          null,
          0.3927555174482186,
          0.30013580806282236,
          null,
          0.3927555174482186,
          0.5688461465191663,
          null,
          0.5688461465191663,
          0.30013580806282236,
          null,
          0.5688461465191663,
          0.6778856299561193,
          null,
          0.6778856299561193,
          0.30013580806282236,
          null
         ],
         "y": [
          -0.2810083297990799,
          -0.17848936488292963,
          null,
          -0.2810083297990799,
          -0.3077062920785691,
          null,
          -0.2810083297990799,
          -0.3029940413237377,
          null,
          -0.2810083297990799,
          -0.14662971722712753,
          null,
          -0.2810083297990799,
          -0.2411586025449309,
          null,
          -0.2810083297990799,
          -0.1030685956458108,
          null,
          -0.2810083297990799,
          -0.010912390155501881,
          null,
          -0.2810083297990799,
          -0.0284381422064447,
          null,
          -0.17848936488292963,
          -0.3077062920785691,
          null,
          -0.17848936488292963,
          -0.3029940413237377,
          null,
          -0.17848936488292963,
          -0.14662971722712753,
          null,
          -0.17848936488292963,
          -0.2411586025449309,
          null,
          -0.17848936488292963,
          -0.1030685956458108,
          null,
          -0.17848936488292963,
          -0.010912390155501881,
          null,
          -0.17848936488292963,
          -0.0284381422064447,
          null,
          -0.3077062920785691,
          -0.3029940413237377,
          null,
          -0.3029940413237377,
          -0.14662971722712753,
          null,
          -0.14662971722712753,
          -0.2411586025449309,
          null,
          -0.14662971722712753,
          -0.1030685956458108,
          null,
          -0.2411586025449309,
          -0.0284381422064447,
          null,
          -0.2411586025449309,
          -0.1030685956458108,
          null,
          -0.1030685956458108,
          -0.0284381422064447,
          null,
          -0.1030685956458108,
          -0.010912390155501881,
          null,
          -0.010912390155501881,
          -0.0284381422064447,
          null
         ],
         "z": [
          -0.3841209068567331,
          -0.3367049251399498,
          null,
          -0.3841209068567331,
          0.08989693510439642,
          null,
          -0.3841209068567331,
          -0.12899671148132968,
          null,
          -0.3841209068567331,
          -0.49828488529777093,
          null,
          -0.3841209068567331,
          -0.7356922241290784,
          null,
          -0.3841209068567331,
          -0.7063545704144366,
          null,
          -0.3841209068567331,
          -0.4478410533713948,
          null,
          -0.3841209068567331,
          -0.5676119112612874,
          null,
          -0.3367049251399498,
          0.08989693510439642,
          null,
          -0.3367049251399498,
          -0.12899671148132968,
          null,
          -0.3367049251399498,
          -0.49828488529777093,
          null,
          -0.3367049251399498,
          -0.7356922241290784,
          null,
          -0.3367049251399498,
          -0.7063545704144366,
          null,
          -0.3367049251399498,
          -0.4478410533713948,
          null,
          -0.3367049251399498,
          -0.5676119112612874,
          null,
          0.08989693510439642,
          -0.12899671148132968,
          null,
          -0.12899671148132968,
          -0.49828488529777093,
          null,
          -0.49828488529777093,
          -0.7356922241290784,
          null,
          -0.49828488529777093,
          -0.7063545704144366,
          null,
          -0.7356922241290784,
          -0.5676119112612874,
          null,
          -0.7356922241290784,
          -0.7063545704144366,
          null,
          -0.7063545704144366,
          -0.5676119112612874,
          null,
          -0.7063545704144366,
          -0.4478410533713948,
          null,
          -0.4478410533713948,
          -0.5676119112612874,
          null
         ]
        },
        {
         "customdata": [
          [
           "adventuring bard",
           "Party"
          ],
          [
           "magic initiate",
           "Party"
          ],
          [
           "bored security",
           "Party"
          ],
          [
           "rapier killer",
           "Party"
          ],
          [
           "aspiring monster hunter",
           "Party"
          ],
          [
           "playboy investigaror",
           "Party"
          ],
          [
           "cleric on a mission",
           "Party"
          ],
          [
           "paladin with a dark side",
           "Party"
          ],
          [
           "princess with an attitude",
           "Party"
          ],
          [
           "aide to faenorra",
           "Last Port"
          ],
          [
           "ambitiou king of the mayors",
           "Last Port"
          ],
          [
           "a wise man",
           "Last Port"
          ],
          [
           "long suffering butler",
           "Vizier"
          ],
          [
           "mercenary law enforcement",
           "Flaming Fist"
          ],
          [
           "a very friendly shield",
           "Shield"
          ],
          [
           "don't mess with him",
           "Hunters"
          ],
          [
           "tinfoil conspiracy theorist",
           "Hunters"
          ],
          [
           "superstar blind wizard",
           "Crew"
          ],
          [
           "mellow yellow fellow",
           "Crew"
          ],
          [
           "grumpy dwarf",
           "Crew"
          ],
          [
           "a very evil book",
           "Book"
          ],
          [
           "brain eaters",
           "Mindflayers"
          ],
          [
           "doppelganger?",
           "Doppelgangers"
          ],
          [
           "doppelganger?",
           "Doppelgangers"
          ],
          [
           "man? in need of a cure",
           "Severed Eyes"
          ],
          [
           null,
           "The Guild"
          ],
          [
           "such a cute \"dog\"",
           "The Mindflayers"
          ],
          [
           "prettiest hag you've ever seen",
           "The Guild"
          ],
          [
           "not a goblin",
           "The Guild"
          ],
          [
           "nevermore",
           "The Raven Queen"
          ],
          [
           "a tricky fellow",
           "Captain Rick"
          ],
          [
           null,
           "Doppelgangers"
          ],
          [
           "he's in control",
           "The Vizier"
          ],
          [
           "it's hungry",
           "The Thing at the Center"
          ],
          [
           "leader of the cannibal elves",
           "The Vizier"
          ]
         ],
         "hoverinfo": "text",
         "hovertemplate": "%{text}<br><i>%{customdata[0]}</i><br><b>Affiliation</b>: %{customdata[1]}<br>",
         "line": {
          "color": "rgb(125,125,125)",
          "width": 0.5
         },
         "marker": {
          "color": [
           "#74BDC0",
           "#74BDC0",
           "#74BDC0",
           "#74BDC0",
           "#74BDC0",
           "#74BDC0",
           "#74BDC0",
           "#74BDC0",
           "#74BDC0",
           "#29F885",
           "#29F885",
           "#29F885",
           "#B9F0F6",
           "#789B34",
           "#10DBF7",
           "#82B70E",
           "#82B70E",
           "#1C2E2B",
           "#1C2E2B",
           "#1C2E2B",
           "#C5D714",
           "#A54DCA",
           "#7942BD",
           "#7942BD",
           "#EDBF88",
           "#E7EEE7",
           "#F289B3",
           "#E7EEE7",
           "#E7EEE7",
           "#84945F",
           "#442082",
           "#7942BD",
           "#6A0512",
           "#367E8A",
           "#6A0512"
          ],
          "size": [
           16,
           16,
           6,
           7,
           8,
           9,
           10,
           8,
           10,
           10,
           10,
           10,
           10,
           10,
           10,
           10,
           10,
           10,
           10,
           10,
           10,
           10,
           10,
           10,
           10,
           10,
           10,
           10,
           10,
           10,
           10,
           10,
           10,
           10,
           10
          ],
          "symbol": "circle"
         },
         "mode": "markers+text",
         "name": "all",
         "showlegend": true,
         "text": [
          "Cissa",
          "Kivani",
          "Kuruntu",
          "Timothy",
          "Bellhop",
          "Bishop",
          "Kurozor",
          "Aedh",
          "Faenorra",
          "Talon",
          "Mayor Ulrik",
          "Randir",
          "Zed",
          "Captain Zodge",
          "The Shield",
          "Milosh",
          "Nika",
          "Turi",
          "Kira",
          "Dwarf",
          "The Book",
          "The Mindflayers",
          "Fake Cissa",
          "Fake Kivani",
          "Severed Eye",
          "Ribbons",
          "Dog",
          "Whiskey Lady",
          "The Goblin",
          "The Raven Queen",
          "Captain Rick",
          "Night's King",
          "The Vizier",
          "The Thing at the Center",
          "Queen Tiala"
         ],
         "type": "scatter3d",
         "visible": true,
         "x": [
          0.5207544666509897,
          0.4036076060229037,
          0.3478933209941665,
          0.6671035768568769,
          0.5707516040308295,
          0.3927555174482186,
          0.5688461465191663,
          0.6778856299561193,
          0.30013580806282236,
          -0.8829409950617879,
          0.7309996969398432,
          -0.14800555545571786,
          0.25109917650494173,
          -0.9194997821436752,
          -0.3032739990676157,
          0.7083055353848483,
          0.20744879306984088,
          -0.5782131480788826,
          0.0595238902009546,
          0.23766861541823472,
          -0.6901570176881178,
          -0.7838158839797541,
          -0.2031234038551466,
          -0.7575268536497326,
          -0.11747401638367781,
          0.6168052412036282,
          -0.3857574836457693,
          -0.528054242294591,
          0.6880431816703004,
          -0.13693171935430193,
          0.44162059708253504,
          -0.9459367161630036,
          -0.8476310250080157,
          0.3993144014132727,
          -0.562220963600701
         ],
         "y": [
          -0.2810083297990799,
          -0.17848936488292963,
          -0.3077062920785691,
          -0.3029940413237377,
          -0.14662971722712753,
          -0.2411586025449309,
          -0.1030685956458108,
          -0.010912390155501881,
          -0.0284381422064447,
          -0.6191050683775878,
          0.7198054839045283,
          0.17783119620944812,
          -0.8990653513874,
          0.3831181881935846,
          0.8836102014942511,
          0.31849303490389785,
          0.6720455151490435,
          0.7538605949019881,
          -0.41640649179775785,
          0.8990650483773137,
          -0.17490670811274117,
          0.487053126595335,
          -0.7441922904798511,
          0.07640282380049027,
          0.9699697089746423,
          0.5768674631633586,
          0.26313465577448997,
          0.8035798387997367,
          -0.6735235426441646,
          -0.7070317009265534,
          -0.27857663440850566,
          -0.04432684284543178,
          -0.34974801319805987,
          -0.8237725585505559,
          -0.6537762016493661
         ],
         "z": [
          -0.3841209068567331,
          -0.3367049251399498,
          0.08989693510439642,
          -0.12899671148132968,
          -0.49828488529777093,
          -0.7356922241290784,
          -0.7063545704144366,
          -0.4478410533713948,
          -0.5676119112612874,
          0.07224517730918056,
          -0.13741891329550163,
          1,
          0.21032669491271008,
          -0.10220374914197812,
          -0.16212466588096486,
          0.6513931548399019,
          0.7279714463868824,
          -0.5316479156991071,
          -0.6508639093433174,
          -0.2752985531758662,
          -0.7434670500446456,
          0.5394041244060033,
          -0.6026563046750616,
          0.6659766851837088,
          0.296971782709021,
          0.10629871237003835,
          -0.8475338889431083,
          0.585910937867001,
          0.42175494072073755,
          0.796733228153129,
          0.7749752450236511,
          0.01944442183457603,
          0.6869184508177004,
          -0.2688787389803048,
          0.48147893949319936
         ]
        }
       ],
       "layout": {
        "height": 600,
        "plot_bgcolor": "#696969",
        "scene": {
         "xaxis": {
          "showbackground": false,
          "showgrid": false,
          "showline": false,
          "showspikes": false,
          "showticklabels": false,
          "title": {
           "text": ""
          },
          "zeroline": false
         },
         "yaxis": {
          "showbackground": false,
          "showgrid": false,
          "showline": false,
          "showspikes": false,
          "showticklabels": false,
          "title": {
           "text": ""
          },
          "zeroline": false
         },
         "zaxis": {
          "showbackground": false,
          "showgrid": false,
          "showline": false,
          "showspikes": false,
          "showticklabels": false,
          "title": {
           "text": ""
          },
          "zeroline": false
         }
        },
        "showlegend": true,
        "template": {
         "data": {
          "bar": [
           {
            "error_x": {
             "color": "#2a3f5f"
            },
            "error_y": {
             "color": "#2a3f5f"
            },
            "marker": {
             "line": {
              "color": "#E5ECF6",
              "width": 0.5
             }
            },
            "type": "bar"
           }
          ],
          "barpolar": [
           {
            "marker": {
             "line": {
              "color": "#E5ECF6",
              "width": 0.5
             }
            },
            "type": "barpolar"
           }
          ],
          "carpet": [
           {
            "aaxis": {
             "endlinecolor": "#2a3f5f",
             "gridcolor": "white",
             "linecolor": "white",
             "minorgridcolor": "white",
             "startlinecolor": "#2a3f5f"
            },
            "baxis": {
             "endlinecolor": "#2a3f5f",
             "gridcolor": "white",
             "linecolor": "white",
             "minorgridcolor": "white",
             "startlinecolor": "#2a3f5f"
            },
            "type": "carpet"
           }
          ],
          "choropleth": [
           {
            "colorbar": {
             "outlinewidth": 0,
             "ticks": ""
            },
            "type": "choropleth"
           }
          ],
          "contour": [
           {
            "colorbar": {
             "outlinewidth": 0,
             "ticks": ""
            },
            "colorscale": [
             [
              0,
              "#0d0887"
             ],
             [
              0.1111111111111111,
              "#46039f"
             ],
             [
              0.2222222222222222,
              "#7201a8"
             ],
             [
              0.3333333333333333,
              "#9c179e"
             ],
             [
              0.4444444444444444,
              "#bd3786"
             ],
             [
              0.5555555555555556,
              "#d8576b"
             ],
             [
              0.6666666666666666,
              "#ed7953"
             ],
             [
              0.7777777777777778,
              "#fb9f3a"
             ],
             [
              0.8888888888888888,
              "#fdca26"
             ],
             [
              1,
              "#f0f921"
             ]
            ],
            "type": "contour"
           }
          ],
          "contourcarpet": [
           {
            "colorbar": {
             "outlinewidth": 0,
             "ticks": ""
            },
            "type": "contourcarpet"
           }
          ],
          "heatmap": [
           {
            "colorbar": {
             "outlinewidth": 0,
             "ticks": ""
            },
            "colorscale": [
             [
              0,
              "#0d0887"
             ],
             [
              0.1111111111111111,
              "#46039f"
             ],
             [
              0.2222222222222222,
              "#7201a8"
             ],
             [
              0.3333333333333333,
              "#9c179e"
             ],
             [
              0.4444444444444444,
              "#bd3786"
             ],
             [
              0.5555555555555556,
              "#d8576b"
             ],
             [
              0.6666666666666666,
              "#ed7953"
             ],
             [
              0.7777777777777778,
              "#fb9f3a"
             ],
             [
              0.8888888888888888,
              "#fdca26"
             ],
             [
              1,
              "#f0f921"
             ]
            ],
            "type": "heatmap"
           }
          ],
          "heatmapgl": [
           {
            "colorbar": {
             "outlinewidth": 0,
             "ticks": ""
            },
            "colorscale": [
             [
              0,
              "#0d0887"
             ],
             [
              0.1111111111111111,
              "#46039f"
             ],
             [
              0.2222222222222222,
              "#7201a8"
             ],
             [
              0.3333333333333333,
              "#9c179e"
             ],
             [
              0.4444444444444444,
              "#bd3786"
             ],
             [
              0.5555555555555556,
              "#d8576b"
             ],
             [
              0.6666666666666666,
              "#ed7953"
             ],
             [
              0.7777777777777778,
              "#fb9f3a"
             ],
             [
              0.8888888888888888,
              "#fdca26"
             ],
             [
              1,
              "#f0f921"
             ]
            ],
            "type": "heatmapgl"
           }
          ],
          "histogram": [
           {
            "marker": {
             "colorbar": {
              "outlinewidth": 0,
              "ticks": ""
             }
            },
            "type": "histogram"
           }
          ],
          "histogram2d": [
           {
            "colorbar": {
             "outlinewidth": 0,
             "ticks": ""
            },
            "colorscale": [
             [
              0,
              "#0d0887"
             ],
             [
              0.1111111111111111,
              "#46039f"
             ],
             [
              0.2222222222222222,
              "#7201a8"
             ],
             [
              0.3333333333333333,
              "#9c179e"
             ],
             [
              0.4444444444444444,
              "#bd3786"
             ],
             [
              0.5555555555555556,
              "#d8576b"
             ],
             [
              0.6666666666666666,
              "#ed7953"
             ],
             [
              0.7777777777777778,
              "#fb9f3a"
             ],
             [
              0.8888888888888888,
              "#fdca26"
             ],
             [
              1,
              "#f0f921"
             ]
            ],
            "type": "histogram2d"
           }
          ],
          "histogram2dcontour": [
           {
            "colorbar": {
             "outlinewidth": 0,
             "ticks": ""
            },
            "colorscale": [
             [
              0,
              "#0d0887"
             ],
             [
              0.1111111111111111,
              "#46039f"
             ],
             [
              0.2222222222222222,
              "#7201a8"
             ],
             [
              0.3333333333333333,
              "#9c179e"
             ],
             [
              0.4444444444444444,
              "#bd3786"
             ],
             [
              0.5555555555555556,
              "#d8576b"
             ],
             [
              0.6666666666666666,
              "#ed7953"
             ],
             [
              0.7777777777777778,
              "#fb9f3a"
             ],
             [
              0.8888888888888888,
              "#fdca26"
             ],
             [
              1,
              "#f0f921"
             ]
            ],
            "type": "histogram2dcontour"
           }
          ],
          "mesh3d": [
           {
            "colorbar": {
             "outlinewidth": 0,
             "ticks": ""
            },
            "type": "mesh3d"
           }
          ],
          "parcoords": [
           {
            "line": {
             "colorbar": {
              "outlinewidth": 0,
              "ticks": ""
             }
            },
            "type": "parcoords"
           }
          ],
          "pie": [
           {
            "automargin": true,
            "type": "pie"
           }
          ],
          "scatter": [
           {
            "marker": {
             "colorbar": {
              "outlinewidth": 0,
              "ticks": ""
             }
            },
            "type": "scatter"
           }
          ],
          "scatter3d": [
           {
            "line": {
             "colorbar": {
              "outlinewidth": 0,
              "ticks": ""
             }
            },
            "marker": {
             "colorbar": {
              "outlinewidth": 0,
              "ticks": ""
             }
            },
            "type": "scatter3d"
           }
          ],
          "scattercarpet": [
           {
            "marker": {
             "colorbar": {
              "outlinewidth": 0,
              "ticks": ""
             }
            },
            "type": "scattercarpet"
           }
          ],
          "scattergeo": [
           {
            "marker": {
             "colorbar": {
              "outlinewidth": 0,
              "ticks": ""
             }
            },
            "type": "scattergeo"
           }
          ],
          "scattergl": [
           {
            "marker": {
             "colorbar": {
              "outlinewidth": 0,
              "ticks": ""
             }
            },
            "type": "scattergl"
           }
          ],
          "scattermapbox": [
           {
            "marker": {
             "colorbar": {
              "outlinewidth": 0,
              "ticks": ""
             }
            },
            "type": "scattermapbox"
           }
          ],
          "scatterpolar": [
           {
            "marker": {
             "colorbar": {
              "outlinewidth": 0,
              "ticks": ""
             }
            },
            "type": "scatterpolar"
           }
          ],
          "scatterpolargl": [
           {
            "marker": {
             "colorbar": {
              "outlinewidth": 0,
              "ticks": ""
             }
            },
            "type": "scatterpolargl"
           }
          ],
          "scatterternary": [
           {
            "marker": {
             "colorbar": {
              "outlinewidth": 0,
              "ticks": ""
             }
            },
            "type": "scatterternary"
           }
          ],
          "surface": [
           {
            "colorbar": {
             "outlinewidth": 0,
             "ticks": ""
            },
            "colorscale": [
             [
              0,
              "#0d0887"
             ],
             [
              0.1111111111111111,
              "#46039f"
             ],
             [
              0.2222222222222222,
              "#7201a8"
             ],
             [
              0.3333333333333333,
              "#9c179e"
             ],
             [
              0.4444444444444444,
              "#bd3786"
             ],
             [
              0.5555555555555556,
              "#d8576b"
             ],
             [
              0.6666666666666666,
              "#ed7953"
             ],
             [
              0.7777777777777778,
              "#fb9f3a"
             ],
             [
              0.8888888888888888,
              "#fdca26"
             ],
             [
              1,
              "#f0f921"
             ]
            ],
            "type": "surface"
           }
          ],
          "table": [
           {
            "cells": {
             "fill": {
              "color": "#EBF0F8"
             },
             "line": {
              "color": "white"
             }
            },
            "header": {
             "fill": {
              "color": "#C8D4E3"
             },
             "line": {
              "color": "white"
             }
            },
            "type": "table"
           }
          ]
         },
         "layout": {
          "annotationdefaults": {
           "arrowcolor": "#2a3f5f",
           "arrowhead": 0,
           "arrowwidth": 1
          },
          "autotypenumbers": "strict",
          "coloraxis": {
           "colorbar": {
            "outlinewidth": 0,
            "ticks": ""
           }
          },
          "colorscale": {
           "diverging": [
            [
             0,
             "#8e0152"
            ],
            [
             0.1,
             "#c51b7d"
            ],
            [
             0.2,
             "#de77ae"
            ],
            [
             0.3,
             "#f1b6da"
            ],
            [
             0.4,
             "#fde0ef"
            ],
            [
             0.5,
             "#f7f7f7"
            ],
            [
             0.6,
             "#e6f5d0"
            ],
            [
             0.7,
             "#b8e186"
            ],
            [
             0.8,
             "#7fbc41"
            ],
            [
             0.9,
             "#4d9221"
            ],
            [
             1,
             "#276419"
            ]
           ],
           "sequential": [
            [
             0,
             "#0d0887"
            ],
            [
             0.1111111111111111,
             "#46039f"
            ],
            [
             0.2222222222222222,
             "#7201a8"
            ],
            [
             0.3333333333333333,
             "#9c179e"
            ],
            [
             0.4444444444444444,
             "#bd3786"
            ],
            [
             0.5555555555555556,
             "#d8576b"
            ],
            [
             0.6666666666666666,
             "#ed7953"
            ],
            [
             0.7777777777777778,
             "#fb9f3a"
            ],
            [
             0.8888888888888888,
             "#fdca26"
            ],
            [
             1,
             "#f0f921"
            ]
           ],
           "sequentialminus": [
            [
             0,
             "#0d0887"
            ],
            [
             0.1111111111111111,
             "#46039f"
            ],
            [
             0.2222222222222222,
             "#7201a8"
            ],
            [
             0.3333333333333333,
             "#9c179e"
            ],
            [
             0.4444444444444444,
             "#bd3786"
            ],
            [
             0.5555555555555556,
             "#d8576b"
            ],
            [
             0.6666666666666666,
             "#ed7953"
            ],
            [
             0.7777777777777778,
             "#fb9f3a"
            ],
            [
             0.8888888888888888,
             "#fdca26"
            ],
            [
             1,
             "#f0f921"
            ]
           ]
          },
          "colorway": [
           "#636efa",
           "#EF553B",
           "#00cc96",
           "#ab63fa",
           "#FFA15A",
           "#19d3f3",
           "#FF6692",
           "#B6E880",
           "#FF97FF",
           "#FECB52"
          ],
          "font": {
           "color": "#2a3f5f"
          },
          "geo": {
           "bgcolor": "white",
           "lakecolor": "white",
           "landcolor": "#E5ECF6",
           "showlakes": true,
           "showland": true,
           "subunitcolor": "white"
          },
          "hoverlabel": {
           "align": "left"
          },
          "hovermode": "closest",
          "mapbox": {
           "style": "light"
          },
          "paper_bgcolor": "white",
          "plot_bgcolor": "#E5ECF6",
          "polar": {
           "angularaxis": {
            "gridcolor": "white",
            "linecolor": "white",
            "ticks": ""
           },
           "bgcolor": "#E5ECF6",
           "radialaxis": {
            "gridcolor": "white",
            "linecolor": "white",
            "ticks": ""
           }
          },
          "scene": {
           "xaxis": {
            "backgroundcolor": "#E5ECF6",
            "gridcolor": "white",
            "gridwidth": 2,
            "linecolor": "white",
            "showbackground": true,
            "ticks": "",
            "zerolinecolor": "white"
           },
           "yaxis": {
            "backgroundcolor": "#E5ECF6",
            "gridcolor": "white",
            "gridwidth": 2,
            "linecolor": "white",
            "showbackground": true,
            "ticks": "",
            "zerolinecolor": "white"
           },
           "zaxis": {
            "backgroundcolor": "#E5ECF6",
            "gridcolor": "white",
            "gridwidth": 2,
            "linecolor": "white",
            "showbackground": true,
            "ticks": "",
            "zerolinecolor": "white"
           }
          },
          "shapedefaults": {
           "line": {
            "color": "#2a3f5f"
           }
          },
          "ternary": {
           "aaxis": {
            "gridcolor": "white",
            "linecolor": "white",
            "ticks": ""
           },
           "baxis": {
            "gridcolor": "white",
            "linecolor": "white",
            "ticks": ""
           },
           "bgcolor": "#E5ECF6",
           "caxis": {
            "gridcolor": "white",
            "linecolor": "white",
            "ticks": ""
           }
          },
          "title": {
           "x": 0.05
          },
          "xaxis": {
           "automargin": true,
           "gridcolor": "white",
           "linecolor": "white",
           "ticks": "",
           "title": {
            "standoff": 15
           },
           "zerolinecolor": "white",
           "zerolinewidth": 2
          },
          "yaxis": {
           "automargin": true,
           "gridcolor": "white",
           "linecolor": "white",
           "ticks": "",
           "title": {
            "standoff": 15
           },
           "zerolinecolor": "white",
           "zerolinewidth": 2
          }
         }
        },
        "title": {
         "text": "Campaign Cast Network"
        },
        "width": 800
       }
      }
     },
     "metadata": {}
    }
   ],
   "source": [
    "placed_nodes = pd.merge(nodes, pd.DataFrame(zip(*get_node_coordinates(dnd, pos_)), \n",
    "                                     columns = [\"Xn\", \"Yn\", \"Zn\"]),\n",
    "                                     left_index = True,\n",
    "                                     right_index = True)\n",
    "\n",
    "\n",
    "node_trace = create_node_trace(placed_nodes,\n",
    "                               name = \"all\")\n",
    "\n",
    "edge_trace = create_edge_trace(*get_link_coordinates(dnd, placed_nodes), \n",
    "                               links, \n",
    "                               name = \"edges\")\n",
    "\n",
    "axis = dict(showbackground = True, \n",
    "            showline = False, \n",
    "            zeroline = False, \n",
    "            showgrid = False, \n",
    "            showticklabels = False, \n",
    "            showspikes = False,\n",
    "            title = '')\n",
    "\n",
    "layout = go.Layout(\n",
    "    title = \"Campaign Cast Network\",\n",
    "    plot_bgcolor='#696969',\n",
    "    width = 800,\n",
    "    height = 600,\n",
    "    showlegend = True,\n",
    "    scene = dict(\n",
    "        xaxis = dict(axis),\n",
    "        yaxis = dict(axis),\n",
    "        zaxis = dict(axis)))\n",
    "\n",
    "fig = go.Figure(data = [edge_trace, node_trace], \n",
    "                layout = layout)\n",
    "\n",
    "iplot(fig, filename = 'campaign')\n"
   ]
  },
  {
   "cell_type": "code",
   "execution_count": null,
   "metadata": {},
   "outputs": [],
   "source": []
  },
  {
   "cell_type": "code",
   "execution_count": null,
   "metadata": {},
   "outputs": [],
   "source": []
  },
  {
   "cell_type": "code",
   "execution_count": null,
   "metadata": {},
   "outputs": [],
   "source": []
  },
  {
   "cell_type": "code",
   "execution_count": null,
   "metadata": {},
   "outputs": [],
   "source": []
  }
 ]
}